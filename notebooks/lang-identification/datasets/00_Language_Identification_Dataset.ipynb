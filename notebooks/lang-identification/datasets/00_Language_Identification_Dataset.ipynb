{
  "cells": [
    {
      "cell_type": "markdown",
      "metadata": {
        "id": "kM9Zc0gV0vKC"
      },
      "source": [
        "\n",
        "### Language Intentification Dataset(LI)\n",
        "\n",
        "In this notebook we are going to create a language identification dataset for the the following languages:\n",
        "\n",
        "- Zulu\n",
        "- Xhosa\n",
        "- Sotho\n",
        "- Afrikaans\n",
        "- English\n",
        "___\n",
        "\n",
        "Topic: `LI`\n",
        "\n",
        "Date: `2022/08/24`\n",
        "\n",
        "Programming Language: `python`\n",
        "\n",
        "Main: `Natural Language Processing (NLP)`\n",
        "\n",
        "___"
      ]
    },
    {
      "cell_type": "markdown",
      "metadata": {
        "id": "2BqgT6Yn0vKW"
      },
      "source": [
        "### Importing packages\n",
        "In the following code cell we are going to import packages that we are going to use in this notebook."
      ]
    },
    {
      "cell_type": "code",
      "execution_count": 12,
      "metadata": {
        "id": "4An5qFaM0vKX"
      },
      "outputs": [],
      "source": [
        "import numpy as np\n",
        "import pandas as pd\n",
        "from sklearn.model_selection import train_test_split\n",
        "import os, random"
      ]
    },
    {
      "cell_type": "markdown",
      "source": [
        "### Setting Seed\n",
        "\n",
        "In the following code cell we are going to set the seed for reprocucivity in this notebook."
      ],
      "metadata": {
        "id": "UpmK-b49qfXj"
      }
    },
    {
      "cell_type": "code",
      "source": [
        "SEED = 42\n",
        "\n",
        "random.seed(SEED)\n",
        "np.random.seed(SEED)"
      ],
      "metadata": {
        "id": "lPVdFojZqUEC"
      },
      "execution_count": 13,
      "outputs": []
    },
    {
      "cell_type": "markdown",
      "metadata": {
        "id": "Nycjxl6B0vKZ"
      },
      "source": [
        "### File System\n",
        "\n",
        "Our files are going to be stored in google drive so we need to mount the good drive so that we can be able to read and write files in there.\n"
      ]
    },
    {
      "cell_type": "code",
      "execution_count": 6,
      "metadata": {
        "colab": {
          "base_uri": "https://localhost:8080/"
        },
        "id": "dKkslu7e2G0w",
        "outputId": "14062adf-05fc-4b8a-9e3d-1f88aaf4618b"
      },
      "outputs": [
        {
          "output_type": "stream",
          "name": "stdout",
          "text": [
            "Drive already mounted at /content/drive; to attempt to forcibly remount, call drive.mount(\"/content/drive\", force_remount=True).\n"
          ]
        }
      ],
      "source": [
        "from google.colab import drive, files\n",
        "\n",
        "drive.mount('/content/drive')"
      ]
    },
    {
      "cell_type": "markdown",
      "metadata": {
        "id": "iQ0S_C2b2W5g"
      },
      "source": [
        "### Paths\n",
        "\n",
        "In the following code cell we are going to define the paths where all our files are stored in the google drive."
      ]
    },
    {
      "cell_type": "code",
      "execution_count": 7,
      "metadata": {
        "id": "2AbwEHzX2ghH"
      },
      "outputs": [],
      "source": [
        "base_dir = '/content/drive/My Drive/NLP Data/nmt'\n",
        "\n",
        "save_dir = os.path.join(base_dir, 'li_datasets')\n",
        "\n",
        "read_dir = os.path.join(base_dir, 'nmt_datasets_pairs/za-nmt-dataset.csv')\n",
        "\n",
        "assert os.path.exists(base_dir), f\"The path '{base_dir}' does not exists, check if you have mounted the google drive.\"\n",
        "assert os.path.exists(save_dir), f\"The path '{save_dir}' does not exists, check if you have mounted the google drive.\"\n",
        "assert os.path.exists(read_dir), f\"The path '{read_dir}' does not exists, check if you have mounted the google drive.\""
      ]
    },
    {
      "cell_type": "markdown",
      "source": [
        "### Reading Sentences\n",
        "In the following code cell we are going to read the sentences from our `za-nmt-dataset.csv` into a dataframe."
      ],
      "metadata": {
        "id": "A9oxxZeGmv7p"
      }
    },
    {
      "cell_type": "code",
      "source": [
        "dataframe = pd.read_csv(read_dir)\n",
        "dataframe.head(1)"
      ],
      "metadata": {
        "colab": {
          "base_uri": "https://localhost:8080/",
          "height": 159
        },
        "id": "AjToL5AKmvTf",
        "outputId": "e771f0d3-c7f6-420b-ebd7-4af7e4761f21"
      },
      "execution_count": 8,
      "outputs": [
        {
          "output_type": "execute_result",
          "data": {
            "text/plain": [
              "   Unnamed: 0                                                 en  \\\n",
              "0           0  so where are we with this eisenhower is farewe...   \n",
              "\n",
              "                                                  af  \\\n",
              "0  so waar is ons met hierdie eisenhower afskeids...   \n",
              "\n",
              "                                 st  \\\n",
              "0  joale re hokae ka eisenhower ena   \n",
              "\n",
              "                                                  zu  \\\n",
              "0  ngakho-ke sikuphi nale-eisenhower ikheli le-fa...   \n",
              "\n",
              "                                                  ts  \\\n",
              "0  so hi kwihi hi eisenhower leyi i farewell addr...   \n",
              "\n",
              "                                          xh  \n",
              "0  ke siphi na le ntetho idilesi ye-farewell  "
            ],
            "text/html": [
              "\n",
              "  <div id=\"df-02d23ae7-72b5-4460-8307-07617fd3649a\">\n",
              "    <div class=\"colab-df-container\">\n",
              "      <div>\n",
              "<style scoped>\n",
              "    .dataframe tbody tr th:only-of-type {\n",
              "        vertical-align: middle;\n",
              "    }\n",
              "\n",
              "    .dataframe tbody tr th {\n",
              "        vertical-align: top;\n",
              "    }\n",
              "\n",
              "    .dataframe thead th {\n",
              "        text-align: right;\n",
              "    }\n",
              "</style>\n",
              "<table border=\"1\" class=\"dataframe\">\n",
              "  <thead>\n",
              "    <tr style=\"text-align: right;\">\n",
              "      <th></th>\n",
              "      <th>Unnamed: 0</th>\n",
              "      <th>en</th>\n",
              "      <th>af</th>\n",
              "      <th>st</th>\n",
              "      <th>zu</th>\n",
              "      <th>ts</th>\n",
              "      <th>xh</th>\n",
              "    </tr>\n",
              "  </thead>\n",
              "  <tbody>\n",
              "    <tr>\n",
              "      <th>0</th>\n",
              "      <td>0</td>\n",
              "      <td>so where are we with this eisenhower is farewe...</td>\n",
              "      <td>so waar is ons met hierdie eisenhower afskeids...</td>\n",
              "      <td>joale re hokae ka eisenhower ena</td>\n",
              "      <td>ngakho-ke sikuphi nale-eisenhower ikheli le-fa...</td>\n",
              "      <td>so hi kwihi hi eisenhower leyi i farewell addr...</td>\n",
              "      <td>ke siphi na le ntetho idilesi ye-farewell</td>\n",
              "    </tr>\n",
              "  </tbody>\n",
              "</table>\n",
              "</div>\n",
              "      <button class=\"colab-df-convert\" onclick=\"convertToInteractive('df-02d23ae7-72b5-4460-8307-07617fd3649a')\"\n",
              "              title=\"Convert this dataframe to an interactive table.\"\n",
              "              style=\"display:none;\">\n",
              "        \n",
              "  <svg xmlns=\"http://www.w3.org/2000/svg\" height=\"24px\"viewBox=\"0 0 24 24\"\n",
              "       width=\"24px\">\n",
              "    <path d=\"M0 0h24v24H0V0z\" fill=\"none\"/>\n",
              "    <path d=\"M18.56 5.44l.94 2.06.94-2.06 2.06-.94-2.06-.94-.94-2.06-.94 2.06-2.06.94zm-11 1L8.5 8.5l.94-2.06 2.06-.94-2.06-.94L8.5 2.5l-.94 2.06-2.06.94zm10 10l.94 2.06.94-2.06 2.06-.94-2.06-.94-.94-2.06-.94 2.06-2.06.94z\"/><path d=\"M17.41 7.96l-1.37-1.37c-.4-.4-.92-.59-1.43-.59-.52 0-1.04.2-1.43.59L10.3 9.45l-7.72 7.72c-.78.78-.78 2.05 0 2.83L4 21.41c.39.39.9.59 1.41.59.51 0 1.02-.2 1.41-.59l7.78-7.78 2.81-2.81c.8-.78.8-2.07 0-2.86zM5.41 20L4 18.59l7.72-7.72 1.47 1.35L5.41 20z\"/>\n",
              "  </svg>\n",
              "      </button>\n",
              "      \n",
              "  <style>\n",
              "    .colab-df-container {\n",
              "      display:flex;\n",
              "      flex-wrap:wrap;\n",
              "      gap: 12px;\n",
              "    }\n",
              "\n",
              "    .colab-df-convert {\n",
              "      background-color: #E8F0FE;\n",
              "      border: none;\n",
              "      border-radius: 50%;\n",
              "      cursor: pointer;\n",
              "      display: none;\n",
              "      fill: #1967D2;\n",
              "      height: 32px;\n",
              "      padding: 0 0 0 0;\n",
              "      width: 32px;\n",
              "    }\n",
              "\n",
              "    .colab-df-convert:hover {\n",
              "      background-color: #E2EBFA;\n",
              "      box-shadow: 0px 1px 2px rgba(60, 64, 67, 0.3), 0px 1px 3px 1px rgba(60, 64, 67, 0.15);\n",
              "      fill: #174EA6;\n",
              "    }\n",
              "\n",
              "    [theme=dark] .colab-df-convert {\n",
              "      background-color: #3B4455;\n",
              "      fill: #D2E3FC;\n",
              "    }\n",
              "\n",
              "    [theme=dark] .colab-df-convert:hover {\n",
              "      background-color: #434B5C;\n",
              "      box-shadow: 0px 1px 3px 1px rgba(0, 0, 0, 0.15);\n",
              "      filter: drop-shadow(0px 1px 2px rgba(0, 0, 0, 0.3));\n",
              "      fill: #FFFFFF;\n",
              "    }\n",
              "  </style>\n",
              "\n",
              "      <script>\n",
              "        const buttonEl =\n",
              "          document.querySelector('#df-02d23ae7-72b5-4460-8307-07617fd3649a button.colab-df-convert');\n",
              "        buttonEl.style.display =\n",
              "          google.colab.kernel.accessAllowed ? 'block' : 'none';\n",
              "\n",
              "        async function convertToInteractive(key) {\n",
              "          const element = document.querySelector('#df-02d23ae7-72b5-4460-8307-07617fd3649a');\n",
              "          const dataTable =\n",
              "            await google.colab.kernel.invokeFunction('convertToInteractive',\n",
              "                                                     [key], {});\n",
              "          if (!dataTable) return;\n",
              "\n",
              "          const docLinkHtml = 'Like what you see? Visit the ' +\n",
              "            '<a target=\"_blank\" href=https://colab.research.google.com/notebooks/data_table.ipynb>data table notebook</a>'\n",
              "            + ' to learn more about interactive tables.';\n",
              "          element.innerHTML = '';\n",
              "          dataTable['output_type'] = 'display_data';\n",
              "          await google.colab.output.renderOutput(dataTable, element);\n",
              "          const docLink = document.createElement('div');\n",
              "          docLink.innerHTML = docLinkHtml;\n",
              "          element.appendChild(docLink);\n",
              "        }\n",
              "      </script>\n",
              "    </div>\n",
              "  </div>\n",
              "  "
            ]
          },
          "metadata": {},
          "execution_count": 8
        }
      ]
    },
    {
      "cell_type": "markdown",
      "source": [
        "### Column names\n",
        "In the following code cell we are going to declare column names as a numpy array. These column names are columns for our dataset."
      ],
      "metadata": {
        "id": "sLjmsfoPoqn6"
      }
    },
    {
      "cell_type": "code",
      "source": [
        "column_names = np.array(['src', 'trg'])"
      ],
      "metadata": {
        "id": "9pcTTbVho88F"
      },
      "execution_count": 9,
      "outputs": []
    },
    {
      "cell_type": "markdown",
      "source": [
        "### Extracting sentences and label them\n",
        "\n",
        "In the following code cell we are going to extract all the sentences for each language in the dataframe columns and label them."
      ],
      "metadata": {
        "id": "wcILre8gpDyv"
      }
    },
    {
      "cell_type": "code",
      "source": [
        "en_sents = [(sent, 'en') for sent in dataframe.en.values]\n",
        "af_sents = [(sent, 'af') for sent in dataframe.af.values]\n",
        "st_sents = [(sent, 'st') for sent in dataframe.st.values]\t\n",
        "zu_sents = [(sent, 'zu') for sent in dataframe.zu.values]\n",
        "ts_sents = [(sent, 'ts') for sent in dataframe.ts.values]\t\n",
        "xh_sents = [(sent, 'xh') for sent in dataframe.xh.values]"
      ],
      "metadata": {
        "id": "Qb_AwJgimvQl"
      },
      "execution_count": 10,
      "outputs": []
    },
    {
      "cell_type": "markdown",
      "source": [
        "### Merging and Shuffling.\n",
        "\n",
        "In the following code cell we are going to medge our sentences for all languages and then shuffle them."
      ],
      "metadata": {
        "id": "A4nHWRCgpo7D"
      }
    },
    {
      "cell_type": "code",
      "source": [
        "data = list()\n",
        "data.extend(en_sents)\n",
        "data.extend(af_sents)\n",
        "data.extend(st_sents)\n",
        "data.extend(zu_sents)\n",
        "data.extend(ts_sents)\n",
        "data.extend(xh_sents)\n",
        "\n",
        "print(\"Total examples: {}\".format(len(data)))\n",
        "\n",
        "random.shuffle(data)\n",
        "\n",
        "data[:10]"
      ],
      "metadata": {
        "colab": {
          "base_uri": "https://localhost:8080/"
        },
        "id": "ZOm1Vhgzmu-W",
        "outputId": "dbe415bf-e050-4b52-dcf4-ba4ddc2d4713"
      },
      "execution_count": 14,
      "outputs": [
        {
          "output_type": "stream",
          "name": "stdout",
          "text": [
            "Total examples: 550434\n"
          ]
        },
        {
          "output_type": "execute_result",
          "data": {
            "text/plain": [
              "[('watter kongreslid babbitt was en vir watter nuus of vermaakprogram', 'af'),\n",
              " ('_odhidaiabo pele ho ngangisano e ne e le mofumahali', 'st'),\n",
              " ('spider man universe bokaholoanyane', 'st'),\n",
              " ('ayisiyo inkcubeko yenkcubeko endikhulele kuyo ngaphambi kokuba uzalelwe oko kukwenza kwaye ukudala isizukulwane sophuhliso kwi-hormone engaqinisekanga ngamandla abo okuzala okanye injongo yexabiso',\n",
              "  'xh'),\n",
              " ('the product extension make site more informative and share detailed with your site with the module you can attach video price',\n",
              "  'en'),\n",
              " ('zinikwe inkuthazo esiphezulu esiphezulu kwi-sub ye-boss championship yeyakho',\n",
              "  'xh'),\n",
              " ('they t even the same genre really anyone who spent five with both and the bom can see there s no ku fana ku tlula ka loko u lava ku kuma ku khorwisa ku lwisana na kereke a hi hanci ku becha eka .',\n",
              "  'ts'),\n",
              " ('ku hetiseka loku teleke hi vutlhari ni ku hetiseka eka ku saseka b a a ri ehenhla swinene eka hinkwaswo leswi a a khorwisa ku ringana ku khorwisa n’we-xa-nharhu xa ku joyina yena eka nhlavutelo ya yena ya ku xandzuka .',\n",
              "  'ts'),\n",
              " ('trump -span hy moet weer president wees om homself van kriminele te red via burn baby burn hoop dat jy dit nie verby die burn baby burn orange face kom nie',\n",
              "  'af'),\n",
              " ('any chance you could catch it in a trap and squirt topical flea from a safe distance feral are no joke i thought thick canvas welding yi ta sirhelela my and the she devil bit through the and pierced my fingernail not trying one again .',\n",
              "  'ts')]"
            ]
          },
          "metadata": {},
          "execution_count": 14
        }
      ]
    },
    {
      "cell_type": "markdown",
      "source": [
        "### Creating a Merged dataframe\n",
        "\n",
        "In the following code cell we are going to create a merged dataframe for our language identification dataset."
      ],
      "metadata": {
        "id": "lc0PXOwErIZ8"
      }
    },
    {
      "cell_type": "code",
      "source": [
        "df = pd.DataFrame(data, columns=column_names)\n",
        "df.head(10)"
      ],
      "metadata": {
        "colab": {
          "base_uri": "https://localhost:8080/",
          "height": 363
        },
        "id": "_HqB4-z8sXb9",
        "outputId": "cc83fba3-cf47-4810-fc26-59c114cbcd82"
      },
      "execution_count": 17,
      "outputs": [
        {
          "output_type": "execute_result",
          "data": {
            "text/plain": [
              "                                                 src trg\n",
              "0  watter kongreslid babbitt was en vir watter nu...  af\n",
              "1  _odhidaiabo pele ho ngangisano e ne e le mofum...  st\n",
              "2                 spider man universe bokaholoanyane  st\n",
              "3  ayisiyo inkcubeko yenkcubeko endikhulele kuyo ...  xh\n",
              "4  the product extension make site more informati...  en\n",
              "5  zinikwe inkuthazo esiphezulu esiphezulu kwi-su...  xh\n",
              "6  they t even the same genre really anyone who s...  ts\n",
              "7  ku hetiseka loku teleke hi vutlhari ni ku heti...  ts\n",
              "8  trump -span hy moet weer president wees om hom...  af\n",
              "9  any chance you could catch it in a trap and sq...  ts"
            ],
            "text/html": [
              "\n",
              "  <div id=\"df-be7c4c3f-e1cf-4037-8e7c-8650834e0998\">\n",
              "    <div class=\"colab-df-container\">\n",
              "      <div>\n",
              "<style scoped>\n",
              "    .dataframe tbody tr th:only-of-type {\n",
              "        vertical-align: middle;\n",
              "    }\n",
              "\n",
              "    .dataframe tbody tr th {\n",
              "        vertical-align: top;\n",
              "    }\n",
              "\n",
              "    .dataframe thead th {\n",
              "        text-align: right;\n",
              "    }\n",
              "</style>\n",
              "<table border=\"1\" class=\"dataframe\">\n",
              "  <thead>\n",
              "    <tr style=\"text-align: right;\">\n",
              "      <th></th>\n",
              "      <th>src</th>\n",
              "      <th>trg</th>\n",
              "    </tr>\n",
              "  </thead>\n",
              "  <tbody>\n",
              "    <tr>\n",
              "      <th>0</th>\n",
              "      <td>watter kongreslid babbitt was en vir watter nu...</td>\n",
              "      <td>af</td>\n",
              "    </tr>\n",
              "    <tr>\n",
              "      <th>1</th>\n",
              "      <td>_odhidaiabo pele ho ngangisano e ne e le mofum...</td>\n",
              "      <td>st</td>\n",
              "    </tr>\n",
              "    <tr>\n",
              "      <th>2</th>\n",
              "      <td>spider man universe bokaholoanyane</td>\n",
              "      <td>st</td>\n",
              "    </tr>\n",
              "    <tr>\n",
              "      <th>3</th>\n",
              "      <td>ayisiyo inkcubeko yenkcubeko endikhulele kuyo ...</td>\n",
              "      <td>xh</td>\n",
              "    </tr>\n",
              "    <tr>\n",
              "      <th>4</th>\n",
              "      <td>the product extension make site more informati...</td>\n",
              "      <td>en</td>\n",
              "    </tr>\n",
              "    <tr>\n",
              "      <th>5</th>\n",
              "      <td>zinikwe inkuthazo esiphezulu esiphezulu kwi-su...</td>\n",
              "      <td>xh</td>\n",
              "    </tr>\n",
              "    <tr>\n",
              "      <th>6</th>\n",
              "      <td>they t even the same genre really anyone who s...</td>\n",
              "      <td>ts</td>\n",
              "    </tr>\n",
              "    <tr>\n",
              "      <th>7</th>\n",
              "      <td>ku hetiseka loku teleke hi vutlhari ni ku heti...</td>\n",
              "      <td>ts</td>\n",
              "    </tr>\n",
              "    <tr>\n",
              "      <th>8</th>\n",
              "      <td>trump -span hy moet weer president wees om hom...</td>\n",
              "      <td>af</td>\n",
              "    </tr>\n",
              "    <tr>\n",
              "      <th>9</th>\n",
              "      <td>any chance you could catch it in a trap and sq...</td>\n",
              "      <td>ts</td>\n",
              "    </tr>\n",
              "  </tbody>\n",
              "</table>\n",
              "</div>\n",
              "      <button class=\"colab-df-convert\" onclick=\"convertToInteractive('df-be7c4c3f-e1cf-4037-8e7c-8650834e0998')\"\n",
              "              title=\"Convert this dataframe to an interactive table.\"\n",
              "              style=\"display:none;\">\n",
              "        \n",
              "  <svg xmlns=\"http://www.w3.org/2000/svg\" height=\"24px\"viewBox=\"0 0 24 24\"\n",
              "       width=\"24px\">\n",
              "    <path d=\"M0 0h24v24H0V0z\" fill=\"none\"/>\n",
              "    <path d=\"M18.56 5.44l.94 2.06.94-2.06 2.06-.94-2.06-.94-.94-2.06-.94 2.06-2.06.94zm-11 1L8.5 8.5l.94-2.06 2.06-.94-2.06-.94L8.5 2.5l-.94 2.06-2.06.94zm10 10l.94 2.06.94-2.06 2.06-.94-2.06-.94-.94-2.06-.94 2.06-2.06.94z\"/><path d=\"M17.41 7.96l-1.37-1.37c-.4-.4-.92-.59-1.43-.59-.52 0-1.04.2-1.43.59L10.3 9.45l-7.72 7.72c-.78.78-.78 2.05 0 2.83L4 21.41c.39.39.9.59 1.41.59.51 0 1.02-.2 1.41-.59l7.78-7.78 2.81-2.81c.8-.78.8-2.07 0-2.86zM5.41 20L4 18.59l7.72-7.72 1.47 1.35L5.41 20z\"/>\n",
              "  </svg>\n",
              "      </button>\n",
              "      \n",
              "  <style>\n",
              "    .colab-df-container {\n",
              "      display:flex;\n",
              "      flex-wrap:wrap;\n",
              "      gap: 12px;\n",
              "    }\n",
              "\n",
              "    .colab-df-convert {\n",
              "      background-color: #E8F0FE;\n",
              "      border: none;\n",
              "      border-radius: 50%;\n",
              "      cursor: pointer;\n",
              "      display: none;\n",
              "      fill: #1967D2;\n",
              "      height: 32px;\n",
              "      padding: 0 0 0 0;\n",
              "      width: 32px;\n",
              "    }\n",
              "\n",
              "    .colab-df-convert:hover {\n",
              "      background-color: #E2EBFA;\n",
              "      box-shadow: 0px 1px 2px rgba(60, 64, 67, 0.3), 0px 1px 3px 1px rgba(60, 64, 67, 0.15);\n",
              "      fill: #174EA6;\n",
              "    }\n",
              "\n",
              "    [theme=dark] .colab-df-convert {\n",
              "      background-color: #3B4455;\n",
              "      fill: #D2E3FC;\n",
              "    }\n",
              "\n",
              "    [theme=dark] .colab-df-convert:hover {\n",
              "      background-color: #434B5C;\n",
              "      box-shadow: 0px 1px 3px 1px rgba(0, 0, 0, 0.15);\n",
              "      filter: drop-shadow(0px 1px 2px rgba(0, 0, 0, 0.3));\n",
              "      fill: #FFFFFF;\n",
              "    }\n",
              "  </style>\n",
              "\n",
              "      <script>\n",
              "        const buttonEl =\n",
              "          document.querySelector('#df-be7c4c3f-e1cf-4037-8e7c-8650834e0998 button.colab-df-convert');\n",
              "        buttonEl.style.display =\n",
              "          google.colab.kernel.accessAllowed ? 'block' : 'none';\n",
              "\n",
              "        async function convertToInteractive(key) {\n",
              "          const element = document.querySelector('#df-be7c4c3f-e1cf-4037-8e7c-8650834e0998');\n",
              "          const dataTable =\n",
              "            await google.colab.kernel.invokeFunction('convertToInteractive',\n",
              "                                                     [key], {});\n",
              "          if (!dataTable) return;\n",
              "\n",
              "          const docLinkHtml = 'Like what you see? Visit the ' +\n",
              "            '<a target=\"_blank\" href=https://colab.research.google.com/notebooks/data_table.ipynb>data table notebook</a>'\n",
              "            + ' to learn more about interactive tables.';\n",
              "          element.innerHTML = '';\n",
              "          dataTable['output_type'] = 'display_data';\n",
              "          await google.colab.output.renderOutput(dataTable, element);\n",
              "          const docLink = document.createElement('div');\n",
              "          docLink.innerHTML = docLinkHtml;\n",
              "          element.appendChild(docLink);\n",
              "        }\n",
              "      </script>\n",
              "    </div>\n",
              "  </div>\n",
              "  "
            ]
          },
          "metadata": {},
          "execution_count": 17
        }
      ]
    },
    {
      "cell_type": "markdown",
      "source": [
        "### Spliting our dataset.\n",
        "Next we are going to slit our dataset into 3 subsets which are:\n",
        "\n",
        "1. train\n",
        "2. test\n",
        "3. validation\n",
        "\n",
        "The test dataset will be splited together with the train data with a fraction of `5%` and validation sets will be taken from the train dataset as a fraction of `.05` as well. We are going to use the `train_test_split` function from `sklearn.model_selection` to split our dataframes."
      ],
      "metadata": {
        "id": "iha06cP5sgLN"
      }
    },
    {
      "cell_type": "code",
      "source": [
        "train_df, test_df = train_test_split(df, test_size=.05, random_state=SEED)\n",
        "train_df, val_df = train_test_split(train_df, test_size=.05, random_state=SEED)\n",
        "\n",
        "\n",
        "print(f\"TRAINING EXAMPLES: {len(train_df)}\")\n",
        "print(f\"TESTING EXAMPLES: {len(test_df)}\")\n",
        "print(f\"VALIDATION EXAMPLES: {len(val_df)}\")"
      ],
      "metadata": {
        "colab": {
          "base_uri": "https://localhost:8080/"
        },
        "id": "H14_7hSbseQ7",
        "outputId": "9c52fda4-22aa-43f7-ecf6-d3d9a3d77c89"
      },
      "execution_count": 20,
      "outputs": [
        {
          "output_type": "stream",
          "name": "stdout",
          "text": [
            "TRAINING EXAMPLES: 496766\n",
            "TESTING EXAMPLES: 27522\n",
            "VALIDATION EXAMPLES: 26146\n"
          ]
        }
      ]
    },
    {
      "cell_type": "markdown",
      "source": [
        "### Saving datasets.\n",
        "\n",
        "In the code cells that follows we are going to save the created sets as `.csv` files."
      ],
      "metadata": {
        "id": "qzRPjy1yutru"
      }
    },
    {
      "cell_type": "code",
      "source": [
        "train_df.reset_index(drop=True, inplace=True)\n",
        "train_df.to_csv(os.path.join(save_dir, 'train.csv'), index=False)\n",
        "print(\"Saved!\")\n",
        "train_df.head()"
      ],
      "metadata": {
        "colab": {
          "base_uri": "https://localhost:8080/",
          "height": 224
        },
        "id": "ah9ZvSv-t0vV",
        "outputId": "7c38ab1a-daea-4360-c1b8-3c4669e7c63f"
      },
      "execution_count": 27,
      "outputs": [
        {
          "output_type": "stream",
          "name": "stdout",
          "text": [
            "Saved!\n"
          ]
        },
        {
          "output_type": "execute_result",
          "data": {
            "text/plain": [
              "                                                 src trg\n",
              "0                  om mee te werk en in die volgende  af\n",
              "1  yi nyikele hi dragona yimbirhi ivi yi nghena e...  ts\n",
              "2                           e ne e le eulogy ea pele  st\n",
              "3                                   farewell my love  en\n",
              "4  __tweet t support city as hulle die enigste kl...  af"
            ],
            "text/html": [
              "\n",
              "  <div id=\"df-ddc73ffa-14e4-4911-a061-c0bb8076f4fb\">\n",
              "    <div class=\"colab-df-container\">\n",
              "      <div>\n",
              "<style scoped>\n",
              "    .dataframe tbody tr th:only-of-type {\n",
              "        vertical-align: middle;\n",
              "    }\n",
              "\n",
              "    .dataframe tbody tr th {\n",
              "        vertical-align: top;\n",
              "    }\n",
              "\n",
              "    .dataframe thead th {\n",
              "        text-align: right;\n",
              "    }\n",
              "</style>\n",
              "<table border=\"1\" class=\"dataframe\">\n",
              "  <thead>\n",
              "    <tr style=\"text-align: right;\">\n",
              "      <th></th>\n",
              "      <th>src</th>\n",
              "      <th>trg</th>\n",
              "    </tr>\n",
              "  </thead>\n",
              "  <tbody>\n",
              "    <tr>\n",
              "      <th>0</th>\n",
              "      <td>om mee te werk en in die volgende</td>\n",
              "      <td>af</td>\n",
              "    </tr>\n",
              "    <tr>\n",
              "      <th>1</th>\n",
              "      <td>yi nyikele hi dragona yimbirhi ivi yi nghena e...</td>\n",
              "      <td>ts</td>\n",
              "    </tr>\n",
              "    <tr>\n",
              "      <th>2</th>\n",
              "      <td>e ne e le eulogy ea pele</td>\n",
              "      <td>st</td>\n",
              "    </tr>\n",
              "    <tr>\n",
              "      <th>3</th>\n",
              "      <td>farewell my love</td>\n",
              "      <td>en</td>\n",
              "    </tr>\n",
              "    <tr>\n",
              "      <th>4</th>\n",
              "      <td>__tweet t support city as hulle die enigste kl...</td>\n",
              "      <td>af</td>\n",
              "    </tr>\n",
              "  </tbody>\n",
              "</table>\n",
              "</div>\n",
              "      <button class=\"colab-df-convert\" onclick=\"convertToInteractive('df-ddc73ffa-14e4-4911-a061-c0bb8076f4fb')\"\n",
              "              title=\"Convert this dataframe to an interactive table.\"\n",
              "              style=\"display:none;\">\n",
              "        \n",
              "  <svg xmlns=\"http://www.w3.org/2000/svg\" height=\"24px\"viewBox=\"0 0 24 24\"\n",
              "       width=\"24px\">\n",
              "    <path d=\"M0 0h24v24H0V0z\" fill=\"none\"/>\n",
              "    <path d=\"M18.56 5.44l.94 2.06.94-2.06 2.06-.94-2.06-.94-.94-2.06-.94 2.06-2.06.94zm-11 1L8.5 8.5l.94-2.06 2.06-.94-2.06-.94L8.5 2.5l-.94 2.06-2.06.94zm10 10l.94 2.06.94-2.06 2.06-.94-2.06-.94-.94-2.06-.94 2.06-2.06.94z\"/><path d=\"M17.41 7.96l-1.37-1.37c-.4-.4-.92-.59-1.43-.59-.52 0-1.04.2-1.43.59L10.3 9.45l-7.72 7.72c-.78.78-.78 2.05 0 2.83L4 21.41c.39.39.9.59 1.41.59.51 0 1.02-.2 1.41-.59l7.78-7.78 2.81-2.81c.8-.78.8-2.07 0-2.86zM5.41 20L4 18.59l7.72-7.72 1.47 1.35L5.41 20z\"/>\n",
              "  </svg>\n",
              "      </button>\n",
              "      \n",
              "  <style>\n",
              "    .colab-df-container {\n",
              "      display:flex;\n",
              "      flex-wrap:wrap;\n",
              "      gap: 12px;\n",
              "    }\n",
              "\n",
              "    .colab-df-convert {\n",
              "      background-color: #E8F0FE;\n",
              "      border: none;\n",
              "      border-radius: 50%;\n",
              "      cursor: pointer;\n",
              "      display: none;\n",
              "      fill: #1967D2;\n",
              "      height: 32px;\n",
              "      padding: 0 0 0 0;\n",
              "      width: 32px;\n",
              "    }\n",
              "\n",
              "    .colab-df-convert:hover {\n",
              "      background-color: #E2EBFA;\n",
              "      box-shadow: 0px 1px 2px rgba(60, 64, 67, 0.3), 0px 1px 3px 1px rgba(60, 64, 67, 0.15);\n",
              "      fill: #174EA6;\n",
              "    }\n",
              "\n",
              "    [theme=dark] .colab-df-convert {\n",
              "      background-color: #3B4455;\n",
              "      fill: #D2E3FC;\n",
              "    }\n",
              "\n",
              "    [theme=dark] .colab-df-convert:hover {\n",
              "      background-color: #434B5C;\n",
              "      box-shadow: 0px 1px 3px 1px rgba(0, 0, 0, 0.15);\n",
              "      filter: drop-shadow(0px 1px 2px rgba(0, 0, 0, 0.3));\n",
              "      fill: #FFFFFF;\n",
              "    }\n",
              "  </style>\n",
              "\n",
              "      <script>\n",
              "        const buttonEl =\n",
              "          document.querySelector('#df-ddc73ffa-14e4-4911-a061-c0bb8076f4fb button.colab-df-convert');\n",
              "        buttonEl.style.display =\n",
              "          google.colab.kernel.accessAllowed ? 'block' : 'none';\n",
              "\n",
              "        async function convertToInteractive(key) {\n",
              "          const element = document.querySelector('#df-ddc73ffa-14e4-4911-a061-c0bb8076f4fb');\n",
              "          const dataTable =\n",
              "            await google.colab.kernel.invokeFunction('convertToInteractive',\n",
              "                                                     [key], {});\n",
              "          if (!dataTable) return;\n",
              "\n",
              "          const docLinkHtml = 'Like what you see? Visit the ' +\n",
              "            '<a target=\"_blank\" href=https://colab.research.google.com/notebooks/data_table.ipynb>data table notebook</a>'\n",
              "            + ' to learn more about interactive tables.';\n",
              "          element.innerHTML = '';\n",
              "          dataTable['output_type'] = 'display_data';\n",
              "          await google.colab.output.renderOutput(dataTable, element);\n",
              "          const docLink = document.createElement('div');\n",
              "          docLink.innerHTML = docLinkHtml;\n",
              "          element.appendChild(docLink);\n",
              "        }\n",
              "      </script>\n",
              "    </div>\n",
              "  </div>\n",
              "  "
            ]
          },
          "metadata": {},
          "execution_count": 27
        }
      ]
    },
    {
      "cell_type": "code",
      "source": [
        "test_df.reset_index(drop=True, inplace=True)\n",
        "test_df.to_csv(os.path.join(save_dir, 'test.csv'), index=False)\n",
        "print(\"Saved!\")\n",
        "test_df.head()"
      ],
      "metadata": {
        "colab": {
          "base_uri": "https://localhost:8080/",
          "height": 224
        },
        "id": "XKkqSv2TuGYq",
        "outputId": "7db583ce-1c05-4a9a-9a3b-683e9024f071"
      },
      "execution_count": 28,
      "outputs": [
        {
          "output_type": "stream",
          "name": "stdout",
          "text": [
            "Saved!\n"
          ]
        },
        {
          "output_type": "execute_result",
          "data": {
            "text/plain": [
              "                                                 src trg\n",
              "0  ilungele into entsha incwadi entsha leyo inkcu...  xh\n",
              "1  as u nie daaroor grap nie, is dit nie die enig...  af\n",
              "2                                      sports is bae  en\n",
              "3  die beste speler op die veld gewees hierdie he...  af\n",
              "4  _ace ek sweer s era x was fa sho action sport ...  af"
            ],
            "text/html": [
              "\n",
              "  <div id=\"df-7e075f80-37b9-47ad-8730-b91174f5547e\">\n",
              "    <div class=\"colab-df-container\">\n",
              "      <div>\n",
              "<style scoped>\n",
              "    .dataframe tbody tr th:only-of-type {\n",
              "        vertical-align: middle;\n",
              "    }\n",
              "\n",
              "    .dataframe tbody tr th {\n",
              "        vertical-align: top;\n",
              "    }\n",
              "\n",
              "    .dataframe thead th {\n",
              "        text-align: right;\n",
              "    }\n",
              "</style>\n",
              "<table border=\"1\" class=\"dataframe\">\n",
              "  <thead>\n",
              "    <tr style=\"text-align: right;\">\n",
              "      <th></th>\n",
              "      <th>src</th>\n",
              "      <th>trg</th>\n",
              "    </tr>\n",
              "  </thead>\n",
              "  <tbody>\n",
              "    <tr>\n",
              "      <th>0</th>\n",
              "      <td>ilungele into entsha incwadi entsha leyo inkcu...</td>\n",
              "      <td>xh</td>\n",
              "    </tr>\n",
              "    <tr>\n",
              "      <th>1</th>\n",
              "      <td>as u nie daaroor grap nie, is dit nie die enig...</td>\n",
              "      <td>af</td>\n",
              "    </tr>\n",
              "    <tr>\n",
              "      <th>2</th>\n",
              "      <td>sports is bae</td>\n",
              "      <td>en</td>\n",
              "    </tr>\n",
              "    <tr>\n",
              "      <th>3</th>\n",
              "      <td>die beste speler op die veld gewees hierdie he...</td>\n",
              "      <td>af</td>\n",
              "    </tr>\n",
              "    <tr>\n",
              "      <th>4</th>\n",
              "      <td>_ace ek sweer s era x was fa sho action sport ...</td>\n",
              "      <td>af</td>\n",
              "    </tr>\n",
              "  </tbody>\n",
              "</table>\n",
              "</div>\n",
              "      <button class=\"colab-df-convert\" onclick=\"convertToInteractive('df-7e075f80-37b9-47ad-8730-b91174f5547e')\"\n",
              "              title=\"Convert this dataframe to an interactive table.\"\n",
              "              style=\"display:none;\">\n",
              "        \n",
              "  <svg xmlns=\"http://www.w3.org/2000/svg\" height=\"24px\"viewBox=\"0 0 24 24\"\n",
              "       width=\"24px\">\n",
              "    <path d=\"M0 0h24v24H0V0z\" fill=\"none\"/>\n",
              "    <path d=\"M18.56 5.44l.94 2.06.94-2.06 2.06-.94-2.06-.94-.94-2.06-.94 2.06-2.06.94zm-11 1L8.5 8.5l.94-2.06 2.06-.94-2.06-.94L8.5 2.5l-.94 2.06-2.06.94zm10 10l.94 2.06.94-2.06 2.06-.94-2.06-.94-.94-2.06-.94 2.06-2.06.94z\"/><path d=\"M17.41 7.96l-1.37-1.37c-.4-.4-.92-.59-1.43-.59-.52 0-1.04.2-1.43.59L10.3 9.45l-7.72 7.72c-.78.78-.78 2.05 0 2.83L4 21.41c.39.39.9.59 1.41.59.51 0 1.02-.2 1.41-.59l7.78-7.78 2.81-2.81c.8-.78.8-2.07 0-2.86zM5.41 20L4 18.59l7.72-7.72 1.47 1.35L5.41 20z\"/>\n",
              "  </svg>\n",
              "      </button>\n",
              "      \n",
              "  <style>\n",
              "    .colab-df-container {\n",
              "      display:flex;\n",
              "      flex-wrap:wrap;\n",
              "      gap: 12px;\n",
              "    }\n",
              "\n",
              "    .colab-df-convert {\n",
              "      background-color: #E8F0FE;\n",
              "      border: none;\n",
              "      border-radius: 50%;\n",
              "      cursor: pointer;\n",
              "      display: none;\n",
              "      fill: #1967D2;\n",
              "      height: 32px;\n",
              "      padding: 0 0 0 0;\n",
              "      width: 32px;\n",
              "    }\n",
              "\n",
              "    .colab-df-convert:hover {\n",
              "      background-color: #E2EBFA;\n",
              "      box-shadow: 0px 1px 2px rgba(60, 64, 67, 0.3), 0px 1px 3px 1px rgba(60, 64, 67, 0.15);\n",
              "      fill: #174EA6;\n",
              "    }\n",
              "\n",
              "    [theme=dark] .colab-df-convert {\n",
              "      background-color: #3B4455;\n",
              "      fill: #D2E3FC;\n",
              "    }\n",
              "\n",
              "    [theme=dark] .colab-df-convert:hover {\n",
              "      background-color: #434B5C;\n",
              "      box-shadow: 0px 1px 3px 1px rgba(0, 0, 0, 0.15);\n",
              "      filter: drop-shadow(0px 1px 2px rgba(0, 0, 0, 0.3));\n",
              "      fill: #FFFFFF;\n",
              "    }\n",
              "  </style>\n",
              "\n",
              "      <script>\n",
              "        const buttonEl =\n",
              "          document.querySelector('#df-7e075f80-37b9-47ad-8730-b91174f5547e button.colab-df-convert');\n",
              "        buttonEl.style.display =\n",
              "          google.colab.kernel.accessAllowed ? 'block' : 'none';\n",
              "\n",
              "        async function convertToInteractive(key) {\n",
              "          const element = document.querySelector('#df-7e075f80-37b9-47ad-8730-b91174f5547e');\n",
              "          const dataTable =\n",
              "            await google.colab.kernel.invokeFunction('convertToInteractive',\n",
              "                                                     [key], {});\n",
              "          if (!dataTable) return;\n",
              "\n",
              "          const docLinkHtml = 'Like what you see? Visit the ' +\n",
              "            '<a target=\"_blank\" href=https://colab.research.google.com/notebooks/data_table.ipynb>data table notebook</a>'\n",
              "            + ' to learn more about interactive tables.';\n",
              "          element.innerHTML = '';\n",
              "          dataTable['output_type'] = 'display_data';\n",
              "          await google.colab.output.renderOutput(dataTable, element);\n",
              "          const docLink = document.createElement('div');\n",
              "          docLink.innerHTML = docLinkHtml;\n",
              "          element.appendChild(docLink);\n",
              "        }\n",
              "      </script>\n",
              "    </div>\n",
              "  </div>\n",
              "  "
            ]
          },
          "metadata": {},
          "execution_count": 28
        }
      ]
    },
    {
      "cell_type": "code",
      "source": [
        "val_df.reset_index(drop=True, inplace=True)\n",
        "val_df.to_csv(os.path.join(save_dir, 'val.csv'), index=False)\n",
        "print(\"Saved!\")\n",
        "val_df.head()"
      ],
      "metadata": {
        "colab": {
          "base_uri": "https://localhost:8080/",
          "height": 224
        },
        "id": "i9hIUuzKujyM",
        "outputId": "329bc609-87f5-4c70-f4f3-23fe1a06d281"
      },
      "execution_count": 29,
      "outputs": [
        {
          "output_type": "stream",
          "name": "stdout",
          "text": [
            "Saved!\n"
          ]
        },
        {
          "output_type": "execute_result",
          "data": {
            "text/plain": [
              "                                                 src trg\n",
              "0  ek het niks oorweeg in my filmtelevisie nie en...  af\n",
              "1  xihloko hi munghana eka ku tsakisa swinene na ...  ts\n",
              "2  ulimi lweretoric lwenzelwe ukuba nomthelela ok...  zu\n",
              "3  damn my own me all love tho focus eka mintlang...  ts\n",
              "4  yintoni eyoyikisayo yile bokongeza kum umntu o...  xh"
            ],
            "text/html": [
              "\n",
              "  <div id=\"df-49764d09-6c6a-4708-826d-24dc873d6e46\">\n",
              "    <div class=\"colab-df-container\">\n",
              "      <div>\n",
              "<style scoped>\n",
              "    .dataframe tbody tr th:only-of-type {\n",
              "        vertical-align: middle;\n",
              "    }\n",
              "\n",
              "    .dataframe tbody tr th {\n",
              "        vertical-align: top;\n",
              "    }\n",
              "\n",
              "    .dataframe thead th {\n",
              "        text-align: right;\n",
              "    }\n",
              "</style>\n",
              "<table border=\"1\" class=\"dataframe\">\n",
              "  <thead>\n",
              "    <tr style=\"text-align: right;\">\n",
              "      <th></th>\n",
              "      <th>src</th>\n",
              "      <th>trg</th>\n",
              "    </tr>\n",
              "  </thead>\n",
              "  <tbody>\n",
              "    <tr>\n",
              "      <th>0</th>\n",
              "      <td>ek het niks oorweeg in my filmtelevisie nie en...</td>\n",
              "      <td>af</td>\n",
              "    </tr>\n",
              "    <tr>\n",
              "      <th>1</th>\n",
              "      <td>xihloko hi munghana eka ku tsakisa swinene na ...</td>\n",
              "      <td>ts</td>\n",
              "    </tr>\n",
              "    <tr>\n",
              "      <th>2</th>\n",
              "      <td>ulimi lweretoric lwenzelwe ukuba nomthelela ok...</td>\n",
              "      <td>zu</td>\n",
              "    </tr>\n",
              "    <tr>\n",
              "      <th>3</th>\n",
              "      <td>damn my own me all love tho focus eka mintlang...</td>\n",
              "      <td>ts</td>\n",
              "    </tr>\n",
              "    <tr>\n",
              "      <th>4</th>\n",
              "      <td>yintoni eyoyikisayo yile bokongeza kum umntu o...</td>\n",
              "      <td>xh</td>\n",
              "    </tr>\n",
              "  </tbody>\n",
              "</table>\n",
              "</div>\n",
              "      <button class=\"colab-df-convert\" onclick=\"convertToInteractive('df-49764d09-6c6a-4708-826d-24dc873d6e46')\"\n",
              "              title=\"Convert this dataframe to an interactive table.\"\n",
              "              style=\"display:none;\">\n",
              "        \n",
              "  <svg xmlns=\"http://www.w3.org/2000/svg\" height=\"24px\"viewBox=\"0 0 24 24\"\n",
              "       width=\"24px\">\n",
              "    <path d=\"M0 0h24v24H0V0z\" fill=\"none\"/>\n",
              "    <path d=\"M18.56 5.44l.94 2.06.94-2.06 2.06-.94-2.06-.94-.94-2.06-.94 2.06-2.06.94zm-11 1L8.5 8.5l.94-2.06 2.06-.94-2.06-.94L8.5 2.5l-.94 2.06-2.06.94zm10 10l.94 2.06.94-2.06 2.06-.94-2.06-.94-.94-2.06-.94 2.06-2.06.94z\"/><path d=\"M17.41 7.96l-1.37-1.37c-.4-.4-.92-.59-1.43-.59-.52 0-1.04.2-1.43.59L10.3 9.45l-7.72 7.72c-.78.78-.78 2.05 0 2.83L4 21.41c.39.39.9.59 1.41.59.51 0 1.02-.2 1.41-.59l7.78-7.78 2.81-2.81c.8-.78.8-2.07 0-2.86zM5.41 20L4 18.59l7.72-7.72 1.47 1.35L5.41 20z\"/>\n",
              "  </svg>\n",
              "      </button>\n",
              "      \n",
              "  <style>\n",
              "    .colab-df-container {\n",
              "      display:flex;\n",
              "      flex-wrap:wrap;\n",
              "      gap: 12px;\n",
              "    }\n",
              "\n",
              "    .colab-df-convert {\n",
              "      background-color: #E8F0FE;\n",
              "      border: none;\n",
              "      border-radius: 50%;\n",
              "      cursor: pointer;\n",
              "      display: none;\n",
              "      fill: #1967D2;\n",
              "      height: 32px;\n",
              "      padding: 0 0 0 0;\n",
              "      width: 32px;\n",
              "    }\n",
              "\n",
              "    .colab-df-convert:hover {\n",
              "      background-color: #E2EBFA;\n",
              "      box-shadow: 0px 1px 2px rgba(60, 64, 67, 0.3), 0px 1px 3px 1px rgba(60, 64, 67, 0.15);\n",
              "      fill: #174EA6;\n",
              "    }\n",
              "\n",
              "    [theme=dark] .colab-df-convert {\n",
              "      background-color: #3B4455;\n",
              "      fill: #D2E3FC;\n",
              "    }\n",
              "\n",
              "    [theme=dark] .colab-df-convert:hover {\n",
              "      background-color: #434B5C;\n",
              "      box-shadow: 0px 1px 3px 1px rgba(0, 0, 0, 0.15);\n",
              "      filter: drop-shadow(0px 1px 2px rgba(0, 0, 0, 0.3));\n",
              "      fill: #FFFFFF;\n",
              "    }\n",
              "  </style>\n",
              "\n",
              "      <script>\n",
              "        const buttonEl =\n",
              "          document.querySelector('#df-49764d09-6c6a-4708-826d-24dc873d6e46 button.colab-df-convert');\n",
              "        buttonEl.style.display =\n",
              "          google.colab.kernel.accessAllowed ? 'block' : 'none';\n",
              "\n",
              "        async function convertToInteractive(key) {\n",
              "          const element = document.querySelector('#df-49764d09-6c6a-4708-826d-24dc873d6e46');\n",
              "          const dataTable =\n",
              "            await google.colab.kernel.invokeFunction('convertToInteractive',\n",
              "                                                     [key], {});\n",
              "          if (!dataTable) return;\n",
              "\n",
              "          const docLinkHtml = 'Like what you see? Visit the ' +\n",
              "            '<a target=\"_blank\" href=https://colab.research.google.com/notebooks/data_table.ipynb>data table notebook</a>'\n",
              "            + ' to learn more about interactive tables.';\n",
              "          element.innerHTML = '';\n",
              "          dataTable['output_type'] = 'display_data';\n",
              "          await google.colab.output.renderOutput(dataTable, element);\n",
              "          const docLink = document.createElement('div');\n",
              "          docLink.innerHTML = docLinkHtml;\n",
              "          element.appendChild(docLink);\n",
              "        }\n",
              "      </script>\n",
              "    </div>\n",
              "  </div>\n",
              "  "
            ]
          },
          "metadata": {},
          "execution_count": 29
        }
      ]
    },
    {
      "cell_type": "markdown",
      "source": [
        "### Saving unsplitted dataset."
      ],
      "metadata": {
        "id": "rcXkfGUavf49"
      }
    },
    {
      "cell_type": "code",
      "source": [
        "df.to_csv(os.path.join(save_dir, 'lang-identification.csv'), index=False)\n",
        "print(\"Saved!\")"
      ],
      "metadata": {
        "colab": {
          "base_uri": "https://localhost:8080/"
        },
        "id": "h6pv2w0humh6",
        "outputId": "9f1a2d02-a45b-4aa1-ccde-fef4dec98cbf"
      },
      "execution_count": 30,
      "outputs": [
        {
          "output_type": "stream",
          "name": "stdout",
          "text": [
            "Saved!\n"
          ]
        }
      ]
    }
  ],
  "metadata": {
    "colab": {
      "collapsed_sections": [],
      "name": "00_Language_Identification_Dataset.ipynb",
      "provenance": []
    },
    "gpuClass": "standard",
    "kernelspec": {
      "display_name": "Python 3",
      "language": "python",
      "name": "python3"
    },
    "language_info": {
      "codemirror_mode": {
        "name": "ipython",
        "version": 3
      },
      "file_extension": ".py",
      "mimetype": "text/x-python",
      "name": "python",
      "nbconvert_exporter": "python",
      "pygments_lexer": "ipython3",
      "version": "3.8.5"
    }
  },
  "nbformat": 4,
  "nbformat_minor": 0
}