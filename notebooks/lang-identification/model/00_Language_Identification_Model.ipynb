{
  "cells": [
    {
      "cell_type": "markdown",
      "metadata": {
        "id": "kM9Zc0gV0vKC"
      },
      "source": [
        "\n",
        "### Language Intentification Model(LIM)\n",
        "\n",
        "In this notebook we are going to create a language identification model based on the following languages.\n",
        "\n",
        "- Zulu (zu)\n",
        "- Xhosa (xh)\n",
        "- Sotho (st)\n",
        "- Afrikaans (af)\n",
        "- English (en)\n",
        "- Tsonga (ts)\n",
        "___\n",
        "\n",
        "Topic: `Sentiment Analyisis(SA) Language Identification Model (LIM).`\n",
        "\n",
        "Date: `2022/08/24`\n",
        "\n",
        "Programming Language: `python`\n",
        "\n",
        "Main: `Natural Language Processing (NLP)`\n",
        "\n",
        "___"
      ]
    },
    {
      "cell_type": "markdown",
      "source": [
        "### Model\n",
        "\n",
        "We are going to create a model that does simple classification on single text and a list of text. At the end the model will be able to take in a sentence and identify which language does the sentence belongs to. \n",
        "\n",
        "In this notebook we are going to use [00_BiLSTM_PRE_TRAINED_EMBEDDING_VECTORS.ipynb](https://github.com/CrispenGari/torchtext/blob/main/sentiment-analyisis/00_BiLSTM_PRE_TRAINED_EMBEDDING_VECTORS.ipynb) as a base notebook. Which means most of the code will be taken from the referenced notebook."
      ],
      "metadata": {
        "id": "APzxcaod-5iD"
      }
    },
    {
      "cell_type": "markdown",
      "source": [
        "### Helper Functions\n",
        "We are going to use the `helperfns` package which is a python package that i've created, which contains some useful helper functions for machine learning. We need to install this package by running the following code cell."
      ],
      "metadata": {
        "id": "b0P0l7cJCqwv"
      }
    },
    {
      "cell_type": "code",
      "source": [
        "!pip install helperfns -q"
      ],
      "metadata": {
        "id": "vmbNQZRuDOHs",
        "colab": {
          "base_uri": "https://localhost:8080/"
        },
        "outputId": "84ab81cc-2518-47db-e7d1-eda1e1bdf51d"
      },
      "execution_count": 1,
      "outputs": [
        {
          "output_type": "stream",
          "name": "stdout",
          "text": [
            "  Building wheel for sklearn (setup.py) ... \u001b[?25l\u001b[?25hdone\n"
          ]
        }
      ]
    },
    {
      "cell_type": "markdown",
      "metadata": {
        "id": "2BqgT6Yn0vKW"
      },
      "source": [
        "### Importing packages\n",
        "In the following code cell we are going to import packages that we are going to use in this notebook."
      ]
    },
    {
      "cell_type": "code",
      "execution_count": 2,
      "metadata": {
        "id": "4An5qFaM0vKX",
        "colab": {
          "base_uri": "https://localhost:8080/"
        },
        "outputId": "027c0a37-9124-4482-c72d-f750f8670aa8"
      },
      "outputs": [
        {
          "output_type": "execute_result",
          "data": {
            "text/plain": [
              "('0.13.1', '1.12.1+cu113')"
            ]
          },
          "metadata": {},
          "execution_count": 2
        }
      ],
      "source": [
        "import time\n",
        "import torch\n",
        "import os\n",
        "import random\n",
        "import torchtext\n",
        "import json\n",
        "\n",
        "from prettytable import PrettyTable\n",
        "from matplotlib import pyplot as plt\n",
        "from google.colab import drive, files\n",
        "from torch import nn\n",
        "from torchtext import data\n",
        "from collections import Counter\n",
        "from torchtext import vocab\n",
        "from helperfns import tables, visualization, utils\n",
        "from helperfns.torch.models import model_params\n",
        "from helperfns.torch.accuracy import categorical_accuracy\n",
        "\n",
        "import torch.nn.functional as F\n",
        "import numpy as np\n",
        "from sklearn.metrics import classification_report\n",
        "import pandas as pd\n",
        "\n",
        "torchtext.__version__, torch.__version__"
      ]
    },
    {
      "cell_type": "markdown",
      "source": [
        "### Files\n",
        "Files are stored in google drive so we need to mount a google drive in our noteboook so that we can easily interact with the google file system using the `API`."
      ],
      "metadata": {
        "id": "eyC3A1sVsEXf"
      }
    },
    {
      "cell_type": "code",
      "source": [
        "drive.mount('/content/drive')"
      ],
      "metadata": {
        "colab": {
          "base_uri": "https://localhost:8080/"
        },
        "id": "AJjysLwEsHXg",
        "outputId": "2203cd04-ad29-4c0f-e566-c96d3eee18c7"
      },
      "execution_count": 3,
      "outputs": [
        {
          "output_type": "stream",
          "name": "stdout",
          "text": [
            "Mounted at /content/drive\n"
          ]
        }
      ]
    },
    {
      "cell_type": "markdown",
      "source": [
        "### File Paths\n",
        "In the following code cell we are going to define the path where our files are going to be stored. We have the following filed emotion-nlpfolder that is in our google drive:\n",
        "\n",
        "1. train.csv\n",
        "2. val.csv\n",
        "3. test.csv"
      ],
      "metadata": {
        "id": "hsqTYX8HsK6j"
      }
    },
    {
      "cell_type": "code",
      "source": [
        "base_dir = '/content/drive/My Drive/NLP Data/nmt/li_datasets'\n",
        "\n",
        "assert os.path.exists(base_dir), f\"The path '{base_dir}' does not exists, check if you have mounted the google drive.\"\n",
        "\n",
        "# file names|\n",
        "train_path = 'train.csv'\n",
        "val_path = 'val.csv'\n",
        "test_path = 'test.csv'\n"
      ],
      "metadata": {
        "id": "cVPxV0zSsZe1"
      },
      "execution_count": 4,
      "outputs": []
    },
    {
      "cell_type": "markdown",
      "source": [
        "### Seed\n",
        "\n",
        "We are going to set the seed for reproducivity of results in this notebook in the following code cell."
      ],
      "metadata": {
        "id": "ha3Q5oGHII_S"
      }
    },
    {
      "cell_type": "code",
      "source": [
        "SEED = 42\n",
        "\n",
        "np.random.seed(SEED)\n",
        "random.seed(SEED)\n",
        "torch.manual_seed(SEED)\n",
        "torch.cuda.manual_seed(SEED)\n",
        "torch.backends.cudnn.deteministic = True"
      ],
      "metadata": {
        "id": "b-u4z4ClIIdN"
      },
      "execution_count": 5,
      "outputs": []
    },
    {
      "cell_type": "markdown",
      "source": [
        "### Device.\n",
        "\n",
        "In the following code cell we are going to create a device variable and utilize the cuda `GPU` if available in this notebook."
      ],
      "metadata": {
        "id": "l_eXf01IELuO"
      }
    },
    {
      "cell_type": "code",
      "source": [
        "device = torch.device('cuda' if  torch.cuda.is_available() else 'cpu')\n",
        "device"
      ],
      "metadata": {
        "colab": {
          "base_uri": "https://localhost:8080/"
        },
        "id": "LL5xcP7RET50",
        "outputId": "eff23996-332b-4c26-f3cb-9d37fedd6805"
      },
      "execution_count": 6,
      "outputs": [
        {
          "output_type": "execute_result",
          "data": {
            "text/plain": [
              "device(type='cuda')"
            ]
          },
          "metadata": {},
          "execution_count": 6
        }
      ]
    },
    {
      "cell_type": "markdown",
      "source": [
        "### Reading Data\n",
        "\n",
        "From our files that we have in google drive. We are going to read the data in these files in a pandas dataframes for all the 3 sets."
      ],
      "metadata": {
        "id": "V0SReUBusv1D"
      }
    },
    {
      "cell_type": "code",
      "source": [
        "train_df = pd.read_csv(os.path.join(base_dir, train_path))\n",
        "test_df = pd.read_csv(os.path.join(base_dir, test_path))\n",
        "val_df = pd.read_csv(os.path.join(base_dir, val_path))"
      ],
      "metadata": {
        "id": "xVt6CJMTJc85"
      },
      "execution_count": 7,
      "outputs": []
    },
    {
      "cell_type": "markdown",
      "source": [
        "### Checking Examples\n",
        "In the following code cell we are going to check the first 5 example using the pandas dataframe method `head` for each dataframe."
      ],
      "metadata": {
        "id": "7tkM6qWttQcZ"
      }
    },
    {
      "cell_type": "code",
      "source": [
        "train_df.head()"
      ],
      "metadata": {
        "colab": {
          "base_uri": "https://localhost:8080/",
          "height": 206
        },
        "id": "VR22FUvTtLu9",
        "outputId": "1104fd8e-3084-441a-c1d3-849e222facb2"
      },
      "execution_count": 8,
      "outputs": [
        {
          "output_type": "execute_result",
          "data": {
            "text/plain": [
              "                                                 src trg\n",
              "0                  om mee te werk en in die volgende  af\n",
              "1  yi nyikele hi dragona yimbirhi ivi yi nghena e...  ts\n",
              "2                           e ne e le eulogy ea pele  st\n",
              "3                                   farewell my love  en\n",
              "4  __tweet t support city as hulle die enigste kl...  af"
            ],
            "text/html": [
              "\n",
              "  <div id=\"df-80c98682-ed42-49ae-8512-e731de15b2c8\">\n",
              "    <div class=\"colab-df-container\">\n",
              "      <div>\n",
              "<style scoped>\n",
              "    .dataframe tbody tr th:only-of-type {\n",
              "        vertical-align: middle;\n",
              "    }\n",
              "\n",
              "    .dataframe tbody tr th {\n",
              "        vertical-align: top;\n",
              "    }\n",
              "\n",
              "    .dataframe thead th {\n",
              "        text-align: right;\n",
              "    }\n",
              "</style>\n",
              "<table border=\"1\" class=\"dataframe\">\n",
              "  <thead>\n",
              "    <tr style=\"text-align: right;\">\n",
              "      <th></th>\n",
              "      <th>src</th>\n",
              "      <th>trg</th>\n",
              "    </tr>\n",
              "  </thead>\n",
              "  <tbody>\n",
              "    <tr>\n",
              "      <th>0</th>\n",
              "      <td>om mee te werk en in die volgende</td>\n",
              "      <td>af</td>\n",
              "    </tr>\n",
              "    <tr>\n",
              "      <th>1</th>\n",
              "      <td>yi nyikele hi dragona yimbirhi ivi yi nghena e...</td>\n",
              "      <td>ts</td>\n",
              "    </tr>\n",
              "    <tr>\n",
              "      <th>2</th>\n",
              "      <td>e ne e le eulogy ea pele</td>\n",
              "      <td>st</td>\n",
              "    </tr>\n",
              "    <tr>\n",
              "      <th>3</th>\n",
              "      <td>farewell my love</td>\n",
              "      <td>en</td>\n",
              "    </tr>\n",
              "    <tr>\n",
              "      <th>4</th>\n",
              "      <td>__tweet t support city as hulle die enigste kl...</td>\n",
              "      <td>af</td>\n",
              "    </tr>\n",
              "  </tbody>\n",
              "</table>\n",
              "</div>\n",
              "      <button class=\"colab-df-convert\" onclick=\"convertToInteractive('df-80c98682-ed42-49ae-8512-e731de15b2c8')\"\n",
              "              title=\"Convert this dataframe to an interactive table.\"\n",
              "              style=\"display:none;\">\n",
              "        \n",
              "  <svg xmlns=\"http://www.w3.org/2000/svg\" height=\"24px\"viewBox=\"0 0 24 24\"\n",
              "       width=\"24px\">\n",
              "    <path d=\"M0 0h24v24H0V0z\" fill=\"none\"/>\n",
              "    <path d=\"M18.56 5.44l.94 2.06.94-2.06 2.06-.94-2.06-.94-.94-2.06-.94 2.06-2.06.94zm-11 1L8.5 8.5l.94-2.06 2.06-.94-2.06-.94L8.5 2.5l-.94 2.06-2.06.94zm10 10l.94 2.06.94-2.06 2.06-.94-2.06-.94-.94-2.06-.94 2.06-2.06.94z\"/><path d=\"M17.41 7.96l-1.37-1.37c-.4-.4-.92-.59-1.43-.59-.52 0-1.04.2-1.43.59L10.3 9.45l-7.72 7.72c-.78.78-.78 2.05 0 2.83L4 21.41c.39.39.9.59 1.41.59.51 0 1.02-.2 1.41-.59l7.78-7.78 2.81-2.81c.8-.78.8-2.07 0-2.86zM5.41 20L4 18.59l7.72-7.72 1.47 1.35L5.41 20z\"/>\n",
              "  </svg>\n",
              "      </button>\n",
              "      \n",
              "  <style>\n",
              "    .colab-df-container {\n",
              "      display:flex;\n",
              "      flex-wrap:wrap;\n",
              "      gap: 12px;\n",
              "    }\n",
              "\n",
              "    .colab-df-convert {\n",
              "      background-color: #E8F0FE;\n",
              "      border: none;\n",
              "      border-radius: 50%;\n",
              "      cursor: pointer;\n",
              "      display: none;\n",
              "      fill: #1967D2;\n",
              "      height: 32px;\n",
              "      padding: 0 0 0 0;\n",
              "      width: 32px;\n",
              "    }\n",
              "\n",
              "    .colab-df-convert:hover {\n",
              "      background-color: #E2EBFA;\n",
              "      box-shadow: 0px 1px 2px rgba(60, 64, 67, 0.3), 0px 1px 3px 1px rgba(60, 64, 67, 0.15);\n",
              "      fill: #174EA6;\n",
              "    }\n",
              "\n",
              "    [theme=dark] .colab-df-convert {\n",
              "      background-color: #3B4455;\n",
              "      fill: #D2E3FC;\n",
              "    }\n",
              "\n",
              "    [theme=dark] .colab-df-convert:hover {\n",
              "      background-color: #434B5C;\n",
              "      box-shadow: 0px 1px 3px 1px rgba(0, 0, 0, 0.15);\n",
              "      filter: drop-shadow(0px 1px 2px rgba(0, 0, 0, 0.3));\n",
              "      fill: #FFFFFF;\n",
              "    }\n",
              "  </style>\n",
              "\n",
              "      <script>\n",
              "        const buttonEl =\n",
              "          document.querySelector('#df-80c98682-ed42-49ae-8512-e731de15b2c8 button.colab-df-convert');\n",
              "        buttonEl.style.display =\n",
              "          google.colab.kernel.accessAllowed ? 'block' : 'none';\n",
              "\n",
              "        async function convertToInteractive(key) {\n",
              "          const element = document.querySelector('#df-80c98682-ed42-49ae-8512-e731de15b2c8');\n",
              "          const dataTable =\n",
              "            await google.colab.kernel.invokeFunction('convertToInteractive',\n",
              "                                                     [key], {});\n",
              "          if (!dataTable) return;\n",
              "\n",
              "          const docLinkHtml = 'Like what you see? Visit the ' +\n",
              "            '<a target=\"_blank\" href=https://colab.research.google.com/notebooks/data_table.ipynb>data table notebook</a>'\n",
              "            + ' to learn more about interactive tables.';\n",
              "          element.innerHTML = '';\n",
              "          dataTable['output_type'] = 'display_data';\n",
              "          await google.colab.output.renderOutput(dataTable, element);\n",
              "          const docLink = document.createElement('div');\n",
              "          docLink.innerHTML = docLinkHtml;\n",
              "          element.appendChild(docLink);\n",
              "        }\n",
              "      </script>\n",
              "    </div>\n",
              "  </div>\n",
              "  "
            ]
          },
          "metadata": {},
          "execution_count": 8
        }
      ]
    },
    {
      "cell_type": "code",
      "source": [
        "test_df.head()"
      ],
      "metadata": {
        "colab": {
          "base_uri": "https://localhost:8080/",
          "height": 206
        },
        "id": "_g9yK_RLtUdK",
        "outputId": "32ee4b8f-374b-41a5-f259-66123af8335c"
      },
      "execution_count": 9,
      "outputs": [
        {
          "output_type": "execute_result",
          "data": {
            "text/plain": [
              "                                                 src trg\n",
              "0  ilungele into entsha incwadi entsha leyo inkcu...  xh\n",
              "1  as u nie daaroor grap nie, is dit nie die enig...  af\n",
              "2                                      sports is bae  en\n",
              "3  die beste speler op die veld gewees hierdie he...  af\n",
              "4  _ace ek sweer s era x was fa sho action sport ...  af"
            ],
            "text/html": [
              "\n",
              "  <div id=\"df-fc434aaa-5793-4346-9376-74cb6187bcb4\">\n",
              "    <div class=\"colab-df-container\">\n",
              "      <div>\n",
              "<style scoped>\n",
              "    .dataframe tbody tr th:only-of-type {\n",
              "        vertical-align: middle;\n",
              "    }\n",
              "\n",
              "    .dataframe tbody tr th {\n",
              "        vertical-align: top;\n",
              "    }\n",
              "\n",
              "    .dataframe thead th {\n",
              "        text-align: right;\n",
              "    }\n",
              "</style>\n",
              "<table border=\"1\" class=\"dataframe\">\n",
              "  <thead>\n",
              "    <tr style=\"text-align: right;\">\n",
              "      <th></th>\n",
              "      <th>src</th>\n",
              "      <th>trg</th>\n",
              "    </tr>\n",
              "  </thead>\n",
              "  <tbody>\n",
              "    <tr>\n",
              "      <th>0</th>\n",
              "      <td>ilungele into entsha incwadi entsha leyo inkcu...</td>\n",
              "      <td>xh</td>\n",
              "    </tr>\n",
              "    <tr>\n",
              "      <th>1</th>\n",
              "      <td>as u nie daaroor grap nie, is dit nie die enig...</td>\n",
              "      <td>af</td>\n",
              "    </tr>\n",
              "    <tr>\n",
              "      <th>2</th>\n",
              "      <td>sports is bae</td>\n",
              "      <td>en</td>\n",
              "    </tr>\n",
              "    <tr>\n",
              "      <th>3</th>\n",
              "      <td>die beste speler op die veld gewees hierdie he...</td>\n",
              "      <td>af</td>\n",
              "    </tr>\n",
              "    <tr>\n",
              "      <th>4</th>\n",
              "      <td>_ace ek sweer s era x was fa sho action sport ...</td>\n",
              "      <td>af</td>\n",
              "    </tr>\n",
              "  </tbody>\n",
              "</table>\n",
              "</div>\n",
              "      <button class=\"colab-df-convert\" onclick=\"convertToInteractive('df-fc434aaa-5793-4346-9376-74cb6187bcb4')\"\n",
              "              title=\"Convert this dataframe to an interactive table.\"\n",
              "              style=\"display:none;\">\n",
              "        \n",
              "  <svg xmlns=\"http://www.w3.org/2000/svg\" height=\"24px\"viewBox=\"0 0 24 24\"\n",
              "       width=\"24px\">\n",
              "    <path d=\"M0 0h24v24H0V0z\" fill=\"none\"/>\n",
              "    <path d=\"M18.56 5.44l.94 2.06.94-2.06 2.06-.94-2.06-.94-.94-2.06-.94 2.06-2.06.94zm-11 1L8.5 8.5l.94-2.06 2.06-.94-2.06-.94L8.5 2.5l-.94 2.06-2.06.94zm10 10l.94 2.06.94-2.06 2.06-.94-2.06-.94-.94-2.06-.94 2.06-2.06.94z\"/><path d=\"M17.41 7.96l-1.37-1.37c-.4-.4-.92-.59-1.43-.59-.52 0-1.04.2-1.43.59L10.3 9.45l-7.72 7.72c-.78.78-.78 2.05 0 2.83L4 21.41c.39.39.9.59 1.41.59.51 0 1.02-.2 1.41-.59l7.78-7.78 2.81-2.81c.8-.78.8-2.07 0-2.86zM5.41 20L4 18.59l7.72-7.72 1.47 1.35L5.41 20z\"/>\n",
              "  </svg>\n",
              "      </button>\n",
              "      \n",
              "  <style>\n",
              "    .colab-df-container {\n",
              "      display:flex;\n",
              "      flex-wrap:wrap;\n",
              "      gap: 12px;\n",
              "    }\n",
              "\n",
              "    .colab-df-convert {\n",
              "      background-color: #E8F0FE;\n",
              "      border: none;\n",
              "      border-radius: 50%;\n",
              "      cursor: pointer;\n",
              "      display: none;\n",
              "      fill: #1967D2;\n",
              "      height: 32px;\n",
              "      padding: 0 0 0 0;\n",
              "      width: 32px;\n",
              "    }\n",
              "\n",
              "    .colab-df-convert:hover {\n",
              "      background-color: #E2EBFA;\n",
              "      box-shadow: 0px 1px 2px rgba(60, 64, 67, 0.3), 0px 1px 3px 1px rgba(60, 64, 67, 0.15);\n",
              "      fill: #174EA6;\n",
              "    }\n",
              "\n",
              "    [theme=dark] .colab-df-convert {\n",
              "      background-color: #3B4455;\n",
              "      fill: #D2E3FC;\n",
              "    }\n",
              "\n",
              "    [theme=dark] .colab-df-convert:hover {\n",
              "      background-color: #434B5C;\n",
              "      box-shadow: 0px 1px 3px 1px rgba(0, 0, 0, 0.15);\n",
              "      filter: drop-shadow(0px 1px 2px rgba(0, 0, 0, 0.3));\n",
              "      fill: #FFFFFF;\n",
              "    }\n",
              "  </style>\n",
              "\n",
              "      <script>\n",
              "        const buttonEl =\n",
              "          document.querySelector('#df-fc434aaa-5793-4346-9376-74cb6187bcb4 button.colab-df-convert');\n",
              "        buttonEl.style.display =\n",
              "          google.colab.kernel.accessAllowed ? 'block' : 'none';\n",
              "\n",
              "        async function convertToInteractive(key) {\n",
              "          const element = document.querySelector('#df-fc434aaa-5793-4346-9376-74cb6187bcb4');\n",
              "          const dataTable =\n",
              "            await google.colab.kernel.invokeFunction('convertToInteractive',\n",
              "                                                     [key], {});\n",
              "          if (!dataTable) return;\n",
              "\n",
              "          const docLinkHtml = 'Like what you see? Visit the ' +\n",
              "            '<a target=\"_blank\" href=https://colab.research.google.com/notebooks/data_table.ipynb>data table notebook</a>'\n",
              "            + ' to learn more about interactive tables.';\n",
              "          element.innerHTML = '';\n",
              "          dataTable['output_type'] = 'display_data';\n",
              "          await google.colab.output.renderOutput(dataTable, element);\n",
              "          const docLink = document.createElement('div');\n",
              "          docLink.innerHTML = docLinkHtml;\n",
              "          element.appendChild(docLink);\n",
              "        }\n",
              "      </script>\n",
              "    </div>\n",
              "  </div>\n",
              "  "
            ]
          },
          "metadata": {},
          "execution_count": 9
        }
      ]
    },
    {
      "cell_type": "code",
      "source": [
        "val_df.head()"
      ],
      "metadata": {
        "colab": {
          "base_uri": "https://localhost:8080/",
          "height": 206
        },
        "id": "-ZMFKduhtYqs",
        "outputId": "273881ec-acab-456c-a003-d2a4a538c9f4"
      },
      "execution_count": 10,
      "outputs": [
        {
          "output_type": "execute_result",
          "data": {
            "text/plain": [
              "                                                 src trg\n",
              "0  ek het niks oorweeg in my filmtelevisie nie en...  af\n",
              "1  xihloko hi munghana eka ku tsakisa swinene na ...  ts\n",
              "2  ulimi lweretoric lwenzelwe ukuba nomthelela ok...  zu\n",
              "3  damn my own me all love tho focus eka mintlang...  ts\n",
              "4  yintoni eyoyikisayo yile bokongeza kum umntu o...  xh"
            ],
            "text/html": [
              "\n",
              "  <div id=\"df-885c8755-9fbf-4c21-a7d3-40612614c3c5\">\n",
              "    <div class=\"colab-df-container\">\n",
              "      <div>\n",
              "<style scoped>\n",
              "    .dataframe tbody tr th:only-of-type {\n",
              "        vertical-align: middle;\n",
              "    }\n",
              "\n",
              "    .dataframe tbody tr th {\n",
              "        vertical-align: top;\n",
              "    }\n",
              "\n",
              "    .dataframe thead th {\n",
              "        text-align: right;\n",
              "    }\n",
              "</style>\n",
              "<table border=\"1\" class=\"dataframe\">\n",
              "  <thead>\n",
              "    <tr style=\"text-align: right;\">\n",
              "      <th></th>\n",
              "      <th>src</th>\n",
              "      <th>trg</th>\n",
              "    </tr>\n",
              "  </thead>\n",
              "  <tbody>\n",
              "    <tr>\n",
              "      <th>0</th>\n",
              "      <td>ek het niks oorweeg in my filmtelevisie nie en...</td>\n",
              "      <td>af</td>\n",
              "    </tr>\n",
              "    <tr>\n",
              "      <th>1</th>\n",
              "      <td>xihloko hi munghana eka ku tsakisa swinene na ...</td>\n",
              "      <td>ts</td>\n",
              "    </tr>\n",
              "    <tr>\n",
              "      <th>2</th>\n",
              "      <td>ulimi lweretoric lwenzelwe ukuba nomthelela ok...</td>\n",
              "      <td>zu</td>\n",
              "    </tr>\n",
              "    <tr>\n",
              "      <th>3</th>\n",
              "      <td>damn my own me all love tho focus eka mintlang...</td>\n",
              "      <td>ts</td>\n",
              "    </tr>\n",
              "    <tr>\n",
              "      <th>4</th>\n",
              "      <td>yintoni eyoyikisayo yile bokongeza kum umntu o...</td>\n",
              "      <td>xh</td>\n",
              "    </tr>\n",
              "  </tbody>\n",
              "</table>\n",
              "</div>\n",
              "      <button class=\"colab-df-convert\" onclick=\"convertToInteractive('df-885c8755-9fbf-4c21-a7d3-40612614c3c5')\"\n",
              "              title=\"Convert this dataframe to an interactive table.\"\n",
              "              style=\"display:none;\">\n",
              "        \n",
              "  <svg xmlns=\"http://www.w3.org/2000/svg\" height=\"24px\"viewBox=\"0 0 24 24\"\n",
              "       width=\"24px\">\n",
              "    <path d=\"M0 0h24v24H0V0z\" fill=\"none\"/>\n",
              "    <path d=\"M18.56 5.44l.94 2.06.94-2.06 2.06-.94-2.06-.94-.94-2.06-.94 2.06-2.06.94zm-11 1L8.5 8.5l.94-2.06 2.06-.94-2.06-.94L8.5 2.5l-.94 2.06-2.06.94zm10 10l.94 2.06.94-2.06 2.06-.94-2.06-.94-.94-2.06-.94 2.06-2.06.94z\"/><path d=\"M17.41 7.96l-1.37-1.37c-.4-.4-.92-.59-1.43-.59-.52 0-1.04.2-1.43.59L10.3 9.45l-7.72 7.72c-.78.78-.78 2.05 0 2.83L4 21.41c.39.39.9.59 1.41.59.51 0 1.02-.2 1.41-.59l7.78-7.78 2.81-2.81c.8-.78.8-2.07 0-2.86zM5.41 20L4 18.59l7.72-7.72 1.47 1.35L5.41 20z\"/>\n",
              "  </svg>\n",
              "      </button>\n",
              "      \n",
              "  <style>\n",
              "    .colab-df-container {\n",
              "      display:flex;\n",
              "      flex-wrap:wrap;\n",
              "      gap: 12px;\n",
              "    }\n",
              "\n",
              "    .colab-df-convert {\n",
              "      background-color: #E8F0FE;\n",
              "      border: none;\n",
              "      border-radius: 50%;\n",
              "      cursor: pointer;\n",
              "      display: none;\n",
              "      fill: #1967D2;\n",
              "      height: 32px;\n",
              "      padding: 0 0 0 0;\n",
              "      width: 32px;\n",
              "    }\n",
              "\n",
              "    .colab-df-convert:hover {\n",
              "      background-color: #E2EBFA;\n",
              "      box-shadow: 0px 1px 2px rgba(60, 64, 67, 0.3), 0px 1px 3px 1px rgba(60, 64, 67, 0.15);\n",
              "      fill: #174EA6;\n",
              "    }\n",
              "\n",
              "    [theme=dark] .colab-df-convert {\n",
              "      background-color: #3B4455;\n",
              "      fill: #D2E3FC;\n",
              "    }\n",
              "\n",
              "    [theme=dark] .colab-df-convert:hover {\n",
              "      background-color: #434B5C;\n",
              "      box-shadow: 0px 1px 3px 1px rgba(0, 0, 0, 0.15);\n",
              "      filter: drop-shadow(0px 1px 2px rgba(0, 0, 0, 0.3));\n",
              "      fill: #FFFFFF;\n",
              "    }\n",
              "  </style>\n",
              "\n",
              "      <script>\n",
              "        const buttonEl =\n",
              "          document.querySelector('#df-885c8755-9fbf-4c21-a7d3-40612614c3c5 button.colab-df-convert');\n",
              "        buttonEl.style.display =\n",
              "          google.colab.kernel.accessAllowed ? 'block' : 'none';\n",
              "\n",
              "        async function convertToInteractive(key) {\n",
              "          const element = document.querySelector('#df-885c8755-9fbf-4c21-a7d3-40612614c3c5');\n",
              "          const dataTable =\n",
              "            await google.colab.kernel.invokeFunction('convertToInteractive',\n",
              "                                                     [key], {});\n",
              "          if (!dataTable) return;\n",
              "\n",
              "          const docLinkHtml = 'Like what you see? Visit the ' +\n",
              "            '<a target=\"_blank\" href=https://colab.research.google.com/notebooks/data_table.ipynb>data table notebook</a>'\n",
              "            + ' to learn more about interactive tables.';\n",
              "          element.innerHTML = '';\n",
              "          dataTable['output_type'] = 'display_data';\n",
              "          await google.colab.output.renderOutput(dataTable, element);\n",
              "          const docLink = document.createElement('div');\n",
              "          docLink.innerHTML = docLinkHtml;\n",
              "          element.appendChild(docLink);\n",
              "        }\n",
              "      </script>\n",
              "    </div>\n",
              "  </div>\n",
              "  "
            ]
          },
          "metadata": {},
          "execution_count": 10
        }
      ]
    },
    {
      "cell_type": "markdown",
      "source": [
        "### Counting examples\n",
        "In the following code cell we are going to count how many examples do we have in each set and visualize them in a tabular format."
      ],
      "metadata": {
        "id": "hDx6_PCctiMN"
      }
    },
    {
      "cell_type": "code",
      "source": [
        "columns = [\"Set\", \"Example(s)\"]\n",
        "examples = [\n",
        "    ['training', f\"{len(train_df):,}\"],\n",
        "    ['validation', f\"{len(val_df):,}\"],\n",
        "    ['testing', f\"{len(test_df):,}\"],\n",
        "    ['total', f\"{(len(train_df) +  len(test_df) + len(val_df)):,}\"],\n",
        "]\n",
        "tables.tabulate_data(columns, examples, \"Exmples\")"
      ],
      "metadata": {
        "colab": {
          "base_uri": "https://localhost:8080/"
        },
        "id": "RxoIA6EmtefI",
        "outputId": "dabacb32-bafc-4602-a190-ec72df7b48ee"
      },
      "execution_count": 11,
      "outputs": [
        {
          "output_type": "stream",
          "name": "stdout",
          "text": [
            "+-------------------------+\n",
            "|         Exmples         |\n",
            "+------------+------------+\n",
            "| Set        | Example(s) |\n",
            "+------------+------------+\n",
            "| training   |    496,766 |\n",
            "| validation |     26,146 |\n",
            "| testing    |     27,522 |\n",
            "| total      |    550,434 |\n",
            "+------------+------------+\n"
          ]
        }
      ]
    },
    {
      "cell_type": "markdown",
      "source": [
        "###Features and Labels\n",
        "Our fetures are the actual sentences in the dataframe which is the column named `src` and our labels will come from the column called `trg`. In the following code cell we are going to read features and labels in a numpy arrays for each set."
      ],
      "metadata": {
        "id": "ferOOM6kvaAw"
      }
    },
    {
      "cell_type": "code",
      "source": [
        "# train\n",
        "train_texts = train_df.src.values\n",
        "train_labels = train_df.trg.values\n",
        "\n",
        "# test\n",
        "test_texts = test_df.src.values\n",
        "test_labels = test_df.trg.values\n",
        "\n",
        "# val\n",
        "val_texts = val_df.src.values\n",
        "val_labels = val_df.trg.values"
      ],
      "metadata": {
        "id": "G0pHE-AUtlfa"
      },
      "execution_count": 12,
      "outputs": []
    },
    {
      "cell_type": "markdown",
      "source": [
        "### Text Preprocessing\n",
        "In our text processing pipeline we need to do the following step:\n",
        "\n",
        "1. tokenize text\n",
        "this is the process of converting a sentence or text into senquence of word. \n",
        "\n",
        "2. vocabulary\n",
        "We will to create a vocabulary based on our text. A vocabulary is esentially a word to index mapping that allows us to reference the word with their integer representation, since machine leaning models does not understand words. This vocabulary will be used during model training and also can be used at model inference.\n",
        "\n",
        "### Tokenizer\n",
        "In the following code cel we aregoing to create a general tokenizer function. We are using a general tokenizer function that esentially slip sentences by a delimeter which is a space."
      ],
      "metadata": {
        "id": "oMfIbQfjvtY3"
      }
    },
    {
      "cell_type": "code",
      "source": [
        "def tokenizer(sent: str)->list:\n",
        "  return sent.split(\" \")\n",
        "\n",
        "tokenizer(\"This is a boy.\")"
      ],
      "metadata": {
        "colab": {
          "base_uri": "https://localhost:8080/"
        },
        "id": "1f9mY5VrvmKR",
        "outputId": "0f62d0b7-6d14-4928-e145-1f4cb311615c"
      },
      "execution_count": 13,
      "outputs": [
        {
          "output_type": "execute_result",
          "data": {
            "text/plain": [
              "['This', 'is', 'a', 'boy.']"
            ]
          },
          "metadata": {},
          "execution_count": 13
        }
      ]
    },
    {
      "cell_type": "markdown",
      "source": [
        "### Vocabulary\n",
        "In the following code cell we are going to create a `vocabulary` object from `torchtext`. This vocabulary takes in an `ordered_dict` of words to their count. So we are going to use the `Counter` module from collections to generate these counts from our train features.\n",
        "\n",
        "We are going to specify the `min_freq` to 2 meaning that the words that does not appear at least 2 times will be converted to `unknown`. We are also going to specify the special tokens during creation of the vocabulary object."
      ],
      "metadata": {
        "id": "QaDqdqy2wnl7"
      }
    },
    {
      "cell_type": "code",
      "source": [
        "counter = Counter()\n",
        "for line in train_texts:\n",
        "   counter.update(tokenizer(line))\n",
        "vocabulary = vocab.vocab(counter, min_freq=2, specials=('<unk>', '<sos>', '<eos>', '<pad>'))"
      ],
      "metadata": {
        "id": "j1gPpaJ0wa-A"
      },
      "execution_count": 14,
      "outputs": []
    },
    {
      "cell_type": "markdown",
      "source": [
        "### STOI - String To Integer\n",
        "This will be a dictionary that contains a string to integer mapping which will be our actual vocabulary. In the following code cell we are going to create object called `stoi` which is essentially a dictionary of word to index mapping."
      ],
      "metadata": {
        "id": "GZjIgrsPxCDr"
      }
    },
    {
      "cell_type": "code",
      "source": [
        "stoi = vocabulary.get_stoi()"
      ],
      "metadata": {
        "id": "xbuEpoK2w5hV"
      },
      "execution_count": 15,
      "outputs": []
    },
    {
      "cell_type": "markdown",
      "source": [
        "###Text Pipeline\n",
        "After our text has been tokenized we need a way of converting those words into numbers because machine leaning models understand numbers not words. That's where we the `text_pipeline` function will come into play. So this function takes in a sentence and tokenize it then converts each word to a number. Note that the word that does not exists in the vocabulay stoi will be habin an unkown (`<unk>`) index."
      ],
      "metadata": {
        "id": "4Iuz1lUaxOD0"
      }
    },
    {
      "cell_type": "code",
      "source": [
        "def text_pipeline(x: str):\n",
        "  values = list()\n",
        "  tokens = tokenizer(x.lower()) # convert to lower case.\n",
        "  for token in tokens:\n",
        "    try:\n",
        "      v = stoi[token]\n",
        "    except KeyError as e:\n",
        "      v = stoi['<unk>']\n",
        "    values.append(v)\n",
        "  return values"
      ],
      "metadata": {
        "id": "-oFvnvp5xKBi"
      },
      "execution_count": 16,
      "outputs": []
    },
    {
      "cell_type": "markdown",
      "source": [
        "###Label pipeline\n",
        "Our labels for now are just langauge labels like `en`. We also need to convert these labels into numbers. This is very simple what we need to do is to get all the uniqe labels and then create a `labels_vocab` which is a label to integer representation. Which looks as follows:\n",
        "\n",
        "```json\n",
        "{\"af\": 0, \"ts\": 1, \"st\": 2, \"en\": 3, \"xh\": 4, \"zu\": 5}\n",
        "```\n",
        "The `label_pipeline` function will then takes in the label and then returns us an integer representation of that label."
      ],
      "metadata": {
        "id": "SlrqugDnxi7M"
      }
    },
    {
      "cell_type": "code",
      "source": [
        "labels_dict = dict({v: k for k, v in enumerate(train_df.trg.unique())})\n",
        "labels_dict"
      ],
      "metadata": {
        "colab": {
          "base_uri": "https://localhost:8080/"
        },
        "id": "n5Xfi0Jjxees",
        "outputId": "b9e21490-a1c9-4dcc-abbe-04ec7d950986"
      },
      "execution_count": 17,
      "outputs": [
        {
          "output_type": "execute_result",
          "data": {
            "text/plain": [
              "{'af': 0, 'ts': 1, 'st': 2, 'en': 3, 'xh': 4, 'zu': 5}"
            ]
          },
          "metadata": {},
          "execution_count": 17
        }
      ]
    },
    {
      "cell_type": "code",
      "source": [
        "label_pipeline = lambda x: labels_dict[x]"
      ],
      "metadata": {
        "id": "h8lCYRYfx27K"
      },
      "execution_count": 18,
      "outputs": []
    },
    {
      "cell_type": "markdown",
      "source": [
        "#### Creating the LanguageIdentificationDataset\n",
        "In the following code cell we are going to create a dataset class called `LanguageIdentificationDataset`. This dataset will takes in the labels and the text of a set."
      ],
      "metadata": {
        "id": "Mlz_4_XQyoaW"
      }
    },
    {
      "cell_type": "code",
      "source": [
        "class LanguageIdentificationDataset(torch.utils.data.Dataset):\n",
        "  def __init__(self, labels, text):\n",
        "    super(LanguageIdentificationDataset, self).__init__()\n",
        "    self.labels = labels\n",
        "    self.text = text\n",
        "      \n",
        "  def __getitem__(self, index):\n",
        "    return self.labels[index], self.text[index]\n",
        "  \n",
        "  def __len__(self):\n",
        "    return len(self.labels)\n",
        "\n",
        "  def __str__(self) -> str:\n",
        "    return \"LanguageIdentificationDataset\"\n",
        "\n",
        "  def __repr__(self) -> str:\n",
        "    return \"LanguageIdentificationDataset\""
      ],
      "metadata": {
        "id": "TVQ3k197yS1L"
      },
      "execution_count": 19,
      "outputs": []
    },
    {
      "cell_type": "markdown",
      "source": [
        "### collate_fn\n",
        "We are going to create a collate function called `tokenize_batch`. This function acually takes in a batch and does the preprocessing of the text and labels. This function will be passed to the `DataLoader` class to do the preprocessing of features and labels.\n",
        "\n",
        "1. `tokenize_batch` function:\n",
        "\n",
        "* this function takes in a batch in each set and convert the features and labels to integer representation. It goes ahead and pad and truncate the sequence to the same length and returns labels and features."
      ],
      "metadata": {
        "id": "g674btI4y2oM"
      }
    },
    {
      "cell_type": "code",
      "source": [
        "def tokenize_batch(batch, max_len=100, padding=\"pre\"):\n",
        "  assert padding==\"pre\" or padding==\"post\", \"the padding can be either pre or post\"\n",
        "  labels_list, text_list = [], []\n",
        "  for _label, _text in batch:\n",
        "    labels_list.append(label_pipeline(_label))\n",
        "    text_holder = torch.zeros(max_len, dtype=torch.int32)\n",
        "    processed_text = torch.tensor(text_pipeline(_text.lower()), dtype=torch.int32)\n",
        "    pos = min(max_len, len(processed_text))\n",
        "    if padding == \"pre\":\n",
        "      text_holder[:pos] = processed_text[:pos]\n",
        "    else:\n",
        "      text_holder[-pos:] = processed_text[-pos:]\n",
        "    text_list.append(text_holder.unsqueeze(dim=0))\n",
        "  #  the labels will be torch long tensors since it is a multi-class classification.\n",
        "  return torch.LongTensor(labels_list), torch.cat(text_list, dim=0)"
      ],
      "metadata": {
        "id": "G-kkkhiZyymb"
      },
      "execution_count": 20,
      "outputs": []
    },
    {
      "cell_type": "markdown",
      "source": [
        "### Datasets\n",
        "In the following code cell we are going to create the datasets for all our three sets using the `LanguageIdentificationDataset` class."
      ],
      "metadata": {
        "id": "3fBum--gzJNW"
      }
    },
    {
      "cell_type": "code",
      "source": [
        "train_dataset = LanguageIdentificationDataset(train_labels, train_texts)\n",
        "test_dataset = LanguageIdentificationDataset(test_labels, test_texts)\n",
        "val_dataset = LanguageIdentificationDataset(val_labels, val_texts)"
      ],
      "metadata": {
        "id": "ik_psJhvzGPg"
      },
      "execution_count": 21,
      "outputs": []
    },
    {
      "cell_type": "markdown",
      "source": [
        "### Iterators\n",
        "In the following code cell we are going to create loaders using the DataLoader class from `torch.utils.data` for our `3` sets. We are going to use the `batch_size` of `128` and our `collate_function` is `tokenize_batch`. For the validation and testing dataset we are going to set the shuffle to `False` because there's no need fo us to shuffle these examples."
      ],
      "metadata": {
        "id": "MYZCwMDPzjZC"
      }
    },
    {
      "cell_type": "code",
      "source": [
        "BATCH_SIZE = 128\n",
        "train_loader = torch.utils.data.DataLoader(train_dataset, batch_size=BATCH_SIZE, shuffle=True, collate_fn=tokenize_batch)\n",
        "test_loader = torch.utils.data.DataLoader(test_dataset, batch_size=BATCH_SIZE, shuffle=False, collate_fn=tokenize_batch)\n",
        "val_loader = torch.utils.data.DataLoader(val_dataset, batch_size=BATCH_SIZE, shuffle=False, collate_fn=tokenize_batch)"
      ],
      "metadata": {
        "id": "YHZnB9FEzT7H"
      },
      "execution_count": 22,
      "outputs": []
    },
    {
      "cell_type": "markdown",
      "source": [
        "### Checking a single Batch Data"
      ],
      "metadata": {
        "id": "mfZUZWnNzzMT"
      }
    },
    {
      "cell_type": "code",
      "source": [
        "lbl, txt = iter(train_loader).next()"
      ],
      "metadata": {
        "id": "mVGJY0TdzxG9"
      },
      "execution_count": 23,
      "outputs": []
    },
    {
      "cell_type": "markdown",
      "source": [
        "First text example in a batch"
      ],
      "metadata": {
        "id": "3GomnbLRz66n"
      }
    },
    {
      "cell_type": "code",
      "source": [
        "txt[0]"
      ],
      "metadata": {
        "colab": {
          "base_uri": "https://localhost:8080/"
        },
        "id": "aMBcX1alz-W8",
        "outputId": "2b5dd094-e46a-4c84-c024-a263dd4e25f1"
      },
      "execution_count": 24,
      "outputs": [
        {
          "output_type": "execute_result",
          "data": {
            "text/plain": [
              "tensor([  874,     0,  5663,     0,    85, 86722,     9,     9,     0,     0,\n",
              "            0,     0,     0,     0,     0,     0,     0,     0,     0,     0,\n",
              "            0,     0,     0,     0,     0,     0,     0,     0,     0,     0,\n",
              "            0,     0,     0,     0,     0,     0,     0,     0,     0,     0,\n",
              "            0,     0,     0,     0,     0,     0,     0,     0,     0,     0,\n",
              "            0,     0,     0,     0,     0,     0,     0,     0,     0,     0,\n",
              "            0,     0,     0,     0,     0,     0,     0,     0,     0,     0,\n",
              "            0,     0,     0,     0,     0,     0,     0,     0,     0,     0,\n",
              "            0,     0,     0,     0,     0,     0,     0,     0,     0,     0,\n",
              "            0,     0,     0,     0,     0,     0,     0,     0,     0,     0],\n",
              "       dtype=torch.int32)"
            ]
          },
          "metadata": {},
          "execution_count": 24
        }
      ]
    },
    {
      "cell_type": "markdown",
      "source": [
        "Labels in the first batch."
      ],
      "metadata": {
        "id": "oG_wbV0Qz4MF"
      }
    },
    {
      "cell_type": "code",
      "source": [
        "lbl"
      ],
      "metadata": {
        "colab": {
          "base_uri": "https://localhost:8080/"
        },
        "id": "cphkEP6lz2GN",
        "outputId": "c1fe0ab3-76c9-44fd-80ad-e82595ff3fda"
      },
      "execution_count": 25,
      "outputs": [
        {
          "output_type": "execute_result",
          "data": {
            "text/plain": [
              "tensor([5, 4, 4, 5, 5, 0, 4, 4, 0, 5, 1, 2, 2, 0, 1, 4, 3, 2, 2, 3, 2, 1, 1, 3,\n",
              "        3, 0, 1, 4, 1, 2, 0, 1, 4, 2, 1, 4, 3, 1, 4, 5, 3, 3, 2, 3, 3, 0, 5, 1,\n",
              "        3, 4, 4, 3, 1, 2, 1, 4, 3, 1, 4, 1, 0, 2, 4, 3, 0, 3, 2, 0, 1, 1, 3, 0,\n",
              "        2, 3, 1, 2, 1, 0, 0, 3, 4, 4, 5, 3, 5, 4, 4, 4, 3, 4, 5, 3, 0, 4, 4, 4,\n",
              "        3, 5, 4, 5, 5, 5, 1, 3, 4, 4, 2, 5, 2, 1, 5, 5, 3, 1, 1, 2, 2, 3, 1, 5,\n",
              "        2, 1, 1, 2, 0, 0, 1, 2])"
            ]
          },
          "metadata": {},
          "execution_count": 25
        }
      ]
    },
    {
      "cell_type": "markdown",
      "source": [
        "### Model Creation\n",
        "Now that we have our loaders we can now create a model. The model that we are going to create is called `LanguageIdentificationModel`. In the following code cell we are going to create our model."
      ],
      "metadata": {
        "id": "JS4gsNas0Eyr"
      }
    },
    {
      "cell_type": "code",
      "source": [
        "class LanguageIdentificationModel(nn.Module):\n",
        "  def __init__(self, vocab_size, embedding_size, hidden_size, output_size, num_layers\n",
        "               , bidirectional, dropout, pad_idx):\n",
        "    super(LanguageIdentificationModel, self).__init__()\n",
        "\n",
        "    self.embedding = nn.Sequential(\n",
        "        nn.Embedding(vocab_size, embedding_dim=embedding_size, padding_idx=pad_idx),\n",
        "        nn.Dropout(dropout)\n",
        "    )\n",
        "    self.lstm = nn.Sequential(\n",
        "        nn.LSTM(\n",
        "          embedding_size, \n",
        "          hidden_size=hidden_size, \n",
        "          bidirectional=bidirectional, \n",
        "          num_layers=num_layers,\n",
        "          dropout=dropout\n",
        "        )\n",
        "    )\n",
        "    self.out = nn.Sequential(\n",
        "        nn.Linear(hidden_size * 2, out_features=128),\n",
        "        nn.Dropout(dropout),\n",
        "        nn.Linear(128, out_features=output_size),\n",
        "        nn.Dropout(dropout)\n",
        "    )\n",
        "\n",
        "  def forward(self, text, text_lengths):\n",
        "    embedded = self.embedding(text)\n",
        "    packed_embedded = nn.utils.rnn.pack_padded_sequence(embedded, text_lengths.to('cpu'), enforce_sorted=False, batch_first=True)\n",
        "    packed_output, (h_0, c_0) = self.lstm(packed_embedded)\n",
        "    output, output_lengths = nn.utils.rnn.pad_packed_sequence(packed_output)\n",
        "    output = torch.cat((h_0[-2,:,:], h_0[-1,:,:]), dim = 1)\n",
        "    return self.out(output)"
      ],
      "metadata": {
        "id": "bLe-jfW6z5Y0"
      },
      "execution_count": 26,
      "outputs": []
    },
    {
      "cell_type": "markdown",
      "source": [
        "### Model Instance\n",
        "In the following code cell we are going to create a model instance."
      ],
      "metadata": {
        "id": "ZnEoDwUh0iUr"
      }
    },
    {
      "cell_type": "code",
      "source": [
        "INPUT_DIM = len(stoi) \n",
        "EMBEDDING_DIM = 1000\n",
        "HIDDEN_DIM = 256\n",
        "OUTPUT_DIM = len(labels_dict)\n",
        "N_LAYERS = 2\n",
        "BIDIRECTIONAL = True\n",
        "DROPOUT = 0.5\n",
        "PAD_IDX = stoi['<pad>'] \n",
        "li_model = LanguageIdentificationModel(\n",
        "              INPUT_DIM, \n",
        "              EMBEDDING_DIM, \n",
        "              HIDDEN_DIM, \n",
        "              OUTPUT_DIM, \n",
        "              N_LAYERS, \n",
        "              BIDIRECTIONAL, \n",
        "              DROPOUT, \n",
        "              PAD_IDX\n",
        ").to(device)\n",
        "li_model"
      ],
      "metadata": {
        "colab": {
          "base_uri": "https://localhost:8080/"
        },
        "id": "wJn9IpWp0eVx",
        "outputId": "cf0ab954-ee8e-4a38-b744-519ec6324a6f"
      },
      "execution_count": 27,
      "outputs": [
        {
          "output_type": "execute_result",
          "data": {
            "text/plain": [
              "LanguageIdentificationModel(\n",
              "  (embedding): Sequential(\n",
              "    (0): Embedding(154060, 1000, padding_idx=3)\n",
              "    (1): Dropout(p=0.5, inplace=False)\n",
              "  )\n",
              "  (lstm): Sequential(\n",
              "    (0): LSTM(1000, 256, num_layers=2, dropout=0.5, bidirectional=True)\n",
              "  )\n",
              "  (out): Sequential(\n",
              "    (0): Linear(in_features=512, out_features=128, bias=True)\n",
              "    (1): Dropout(p=0.5, inplace=False)\n",
              "    (2): Linear(in_features=128, out_features=6, bias=True)\n",
              "    (3): Dropout(p=0.5, inplace=False)\n",
              "  )\n",
              ")"
            ]
          },
          "metadata": {},
          "execution_count": 27
        }
      ]
    },
    {
      "cell_type": "markdown",
      "source": [
        "### Counting Model Parameters\n",
        "In the following code cell we are going to count the model parameters. We are going to use the `model_params` function from `helperfns.torch.models`"
      ],
      "metadata": {
        "id": "00ITvYSJ0wJu"
      }
    },
    {
      "cell_type": "code",
      "source": [
        "model_params(li_model)"
      ],
      "metadata": {
        "colab": {
          "base_uri": "https://localhost:8080/"
        },
        "id": "3G23cbfp0rGx",
        "outputId": "b870846e-329a-45e3-c174-625b9abe30f6"
      },
      "execution_count": 28,
      "outputs": [
        {
          "output_type": "stream",
          "name": "stdout",
          "text": [
            "TOTAL MODEL PARAMETERS: \t158,279,782\n",
            "TOTAL TRAINABLE PARAMETERS: \t158,279,782\n"
          ]
        }
      ]
    },
    {
      "cell_type": "markdown",
      "source": [
        "### Optimizer and Criterion\n",
        "In the following code cell we are going to define the optimizer and criterion. For the optimizer we are going to use the `Adam` optimizer with default parameters and for the criterion we are going to use the `CrossEntropyLoss()` function since this is a `multi-class` classification."
      ],
      "metadata": {
        "id": "lMAPfKVf1Q2V"
      }
    },
    {
      "cell_type": "code",
      "source": [
        "optimizer = torch.optim.Adam(li_model.parameters())\n",
        "criterion = nn.CrossEntropyLoss().to(device)"
      ],
      "metadata": {
        "id": "_icMoIV71MT-"
      },
      "execution_count": 29,
      "outputs": []
    },
    {
      "cell_type": "markdown",
      "source": [
        "### Train and Evaluate functions\n",
        "In the following code cell we are going to create our `train` and `evalutate` functions:"
      ],
      "metadata": {
        "id": "m7iUcSov1fBL"
      }
    },
    {
      "cell_type": "code",
      "source": [
        "def train(model, iterator, optimizer, criterion):\n",
        "  epoch_loss,epoch_acc = 0, 0\n",
        "  model.train()\n",
        "  for batch in iterator:\n",
        "    y, X = batch\n",
        "    X = X.to(device)\n",
        "    y = y.to(device)\n",
        "    lengths = torch.tensor([len(i) for i in X])\n",
        "    optimizer.zero_grad()\n",
        "    predictions = model(X, lengths).squeeze(1)\n",
        "    loss = criterion(predictions, y)\n",
        "    acc = categorical_accuracy(predictions, y)\n",
        "    loss.backward()\n",
        "    optimizer.step()\n",
        "    epoch_loss += loss.item()\n",
        "    epoch_acc += acc.item()\n",
        "  return epoch_loss / len(iterator), epoch_acc / len(iterator)\n",
        "\n",
        "def evaluate(model, iterator, criterion):\n",
        "  epoch_loss,epoch_acc = 0, 0\n",
        "  model.eval()\n",
        "  with torch.no_grad():\n",
        "    for batch in iterator:\n",
        "      y, X = batch\n",
        "      X = X.to(device)\n",
        "      y = y.to(device)\n",
        "      lengths = torch.tensor([len(i) for i in X])\n",
        "      predictions = model(X, lengths).squeeze(1)\n",
        "      loss = criterion(predictions, y)\n",
        "      acc = categorical_accuracy(predictions, y)\n",
        "      epoch_loss += loss.item()\n",
        "      epoch_acc += acc.item()\n",
        "  return epoch_loss / len(iterator), epoch_acc / len(iterator)"
      ],
      "metadata": {
        "id": "DuNLjFmj1Yx_"
      },
      "execution_count": 30,
      "outputs": []
    },
    {
      "cell_type": "markdown",
      "source": [
        "### Training Loop\n",
        "In the following code cell we are going to run the training loop. We are going to save the model when the loss decreased."
      ],
      "metadata": {
        "id": "iK9-KkHL2HL4"
      }
    },
    {
      "cell_type": "code",
      "source": [
        "N_EPOCHS = 10\n",
        "MODEL_NAME = 'li-model.pt'\n",
        "\n",
        "best_valid_loss = float('inf')\n",
        "for epoch in range(N_EPOCHS):\n",
        "  start = time.time()\n",
        "  train_loss, train_acc = train(li_model, train_loader, optimizer, criterion)\n",
        "  valid_loss, valid_acc = evaluate(li_model, val_loader, criterion)\n",
        "  title = f\"EPOCH: {epoch+1:02}/{N_EPOCHS:02} {'saving best model...' if valid_loss < best_valid_loss else 'not saving...'}\"\n",
        "  if valid_loss < best_valid_loss:\n",
        "      best_valid_loss = valid_loss\n",
        "      torch.save(li_model.state_dict(), MODEL_NAME)\n",
        "  end = time.time()\n",
        "  data = [\n",
        "       [\"Training\", f'{train_loss:.3f}', f'{train_acc:.3f}', f\"{utils.hms_string(end - start)}\" ],\n",
        "       [\"Validation\", f'{valid_loss:.3f}', f'{valid_acc:.3f}', \"\" ],       \n",
        "   ]\n",
        "  columns = [\"CATEGORY\", \"LOSS\", \"ACCURACY\", \"ETA\"]\n",
        "  tables.tabulate_data(columns, data, title)"
      ],
      "metadata": {
        "colab": {
          "base_uri": "https://localhost:8080/"
        },
        "id": "oAKV0JSZ13nL",
        "outputId": "fac6014b-4c47-40f4-ad14-c68bb9c66630"
      },
      "execution_count": 31,
      "outputs": [
        {
          "output_type": "stream",
          "name": "stdout",
          "text": [
            "+--------------------------------------------+\n",
            "|     EPOCH: 01/10 saving best model...      |\n",
            "+------------+-------+----------+------------+\n",
            "| CATEGORY   |  LOSS | ACCURACY |        ETA |\n",
            "+------------+-------+----------+------------+\n",
            "| Training   | 0.718 |    0.638 | 0:10:55.59 |\n",
            "| Validation | 0.082 |    0.974 |            |\n",
            "+------------+-------+----------+------------+\n",
            "+--------------------------------------------+\n",
            "|     EPOCH: 02/10 saving best model...      |\n",
            "+------------+-------+----------+------------+\n",
            "| CATEGORY   |  LOSS | ACCURACY |        ETA |\n",
            "+------------+-------+----------+------------+\n",
            "| Training   | 0.666 |    0.650 | 0:11:05.56 |\n",
            "| Validation | 0.071 |    0.978 |            |\n",
            "+------------+-------+----------+------------+\n",
            "+--------------------------------------------+\n",
            "|     EPOCH: 03/10 saving best model...      |\n",
            "+------------+-------+----------+------------+\n",
            "| CATEGORY   |  LOSS | ACCURACY |        ETA |\n",
            "+------------+-------+----------+------------+\n",
            "| Training   | 0.654 |    0.652 | 0:11:07.68 |\n",
            "| Validation | 0.067 |    0.980 |            |\n",
            "+------------+-------+----------+------------+\n",
            "+--------------------------------------------+\n",
            "|     EPOCH: 04/10 saving best model...      |\n",
            "+------------+-------+----------+------------+\n",
            "| CATEGORY   |  LOSS | ACCURACY |        ETA |\n",
            "+------------+-------+----------+------------+\n",
            "| Training   | 0.650 |    0.652 | 0:11:07.97 |\n",
            "| Validation | 0.064 |    0.981 |            |\n",
            "+------------+-------+----------+------------+\n",
            "+--------------------------------------------+\n",
            "|         EPOCH: 05/10 not saving...         |\n",
            "+------------+-------+----------+------------+\n",
            "| CATEGORY   |  LOSS | ACCURACY |        ETA |\n",
            "+------------+-------+----------+------------+\n",
            "| Training   | 0.646 |    0.653 | 0:11:05.16 |\n",
            "| Validation | 0.069 |    0.980 |            |\n",
            "+------------+-------+----------+------------+\n",
            "+--------------------------------------------+\n",
            "|     EPOCH: 06/10 saving best model...      |\n",
            "+------------+-------+----------+------------+\n",
            "| CATEGORY   |  LOSS | ACCURACY |        ETA |\n",
            "+------------+-------+----------+------------+\n",
            "| Training   | 0.641 |    0.656 | 0:11:07.51 |\n",
            "| Validation | 0.062 |    0.982 |            |\n",
            "+------------+-------+----------+------------+\n",
            "+--------------------------------------------+\n",
            "|         EPOCH: 07/10 not saving...         |\n",
            "+------------+-------+----------+------------+\n",
            "| CATEGORY   |  LOSS | ACCURACY |        ETA |\n",
            "+------------+-------+----------+------------+\n",
            "| Training   | 0.638 |    0.655 | 0:11:04.20 |\n",
            "| Validation | 0.064 |    0.981 |            |\n",
            "+------------+-------+----------+------------+\n",
            "+--------------------------------------------+\n",
            "|         EPOCH: 08/10 not saving...         |\n",
            "+------------+-------+----------+------------+\n",
            "| CATEGORY   |  LOSS | ACCURACY |        ETA |\n",
            "+------------+-------+----------+------------+\n",
            "| Training   | 0.636 |    0.656 | 0:11:03.51 |\n",
            "| Validation | 0.066 |    0.983 |            |\n",
            "+------------+-------+----------+------------+\n",
            "+--------------------------------------------+\n",
            "|     EPOCH: 09/10 saving best model...      |\n",
            "+------------+-------+----------+------------+\n",
            "| CATEGORY   |  LOSS | ACCURACY |        ETA |\n",
            "+------------+-------+----------+------------+\n",
            "| Training   | 0.636 |    0.655 | 0:11:05.35 |\n",
            "| Validation | 0.061 |    0.983 |            |\n",
            "+------------+-------+----------+------------+\n",
            "+--------------------------------------------+\n",
            "|         EPOCH: 10/10 not saving...         |\n",
            "+------------+-------+----------+------------+\n",
            "| CATEGORY   |  LOSS | ACCURACY |        ETA |\n",
            "+------------+-------+----------+------------+\n",
            "| Training   | 0.633 |    0.657 | 0:11:02.14 |\n",
            "| Validation | 0.068 |    0.982 |            |\n",
            "+------------+-------+----------+------------+\n"
          ]
        }
      ]
    },
    {
      "cell_type": "markdown",
      "source": [
        "### Evaluating the best model.\n",
        "In the following code cell we are going to evaluate the best model using on the `test` data as follows:"
      ],
      "metadata": {
        "id": "DNa6Cf6S2UWc"
      }
    },
    {
      "cell_type": "code",
      "source": [
        "column_names = [\"Set\", \"Loss\", \"Accuracy\", \"ETA (time)\"]\n",
        "li_model.load_state_dict(torch.load(MODEL_NAME))\n",
        "test_loss, test_acc = evaluate(li_model, test_loader, criterion)\n",
        "title = \"Model Evaluation Summary\"\n",
        "data_rows = [[\"Test\", f'{test_loss:.3f}', f'{test_acc * 100:.2f}%', \"\"]]\n",
        "\n",
        "tables.tabulate_data(column_names, data_rows, title)"
      ],
      "metadata": {
        "colab": {
          "base_uri": "https://localhost:8080/"
        },
        "id": "AkZ9OWLP2OLX",
        "outputId": "03fd8f1e-68f6-411e-aa72-9e280cefdfc4"
      },
      "execution_count": 32,
      "outputs": [
        {
          "output_type": "stream",
          "name": "stdout",
          "text": [
            "+--------------------------------------+\n",
            "|       Model Evaluation Summary       |\n",
            "+------+-------+----------+------------+\n",
            "| Set  |  Loss | Accuracy | ETA (time) |\n",
            "+------+-------+----------+------------+\n",
            "| Test | 0.058 |   98.35% |            |\n",
            "+------+-------+----------+------------+\n"
          ]
        }
      ]
    },
    {
      "cell_type": "markdown",
      "source": [
        "### Model Inference\n",
        "In the following code cell we are going to make predictions with the best model. We will have the function called `inference_preprocess_text` which is a function that process the text for inference."
      ],
      "metadata": {
        "id": "W1edz_st2f8c"
      }
    },
    {
      "cell_type": "code",
      "source": [
        "def inference_preprocess_text(text, max_len=100, padding=\"pre\"):\n",
        "  assert padding==\"pre\" or padding==\"post\", \"the padding can be either pre or post\"\n",
        "  text_holder = torch.zeros(max_len, dtype=torch.int32) # fixed size tensor of max_len with <pad> = 0\n",
        "  processed_text = torch.tensor(text_pipeline(text), dtype=torch.int32)\n",
        "  pos = min(max_len, len(processed_text))\n",
        "  if padding == \"pre\":\n",
        "    text_holder[:pos] = processed_text[:pos]\n",
        "  else:\n",
        "    text_holder[-pos:] = processed_text[-pos:]\n",
        "  text_list= text_holder.unsqueeze(dim=0)\n",
        "  return text_list"
      ],
      "metadata": {
        "id": "-6mJx9FO2cVW"
      },
      "execution_count": 33,
      "outputs": []
    },
    {
      "cell_type": "markdown",
      "source": [
        "### Types\n",
        "\n",
        "In the following code cell we are going to create data-classes for our predictions types which are:\n",
        "\n",
        "1. `Language`\n",
        "2. `PredictionResponse`\n",
        "3. `LanguageIdentificationPredictionResponse`\n",
        "4. `LanguageIdentificationPredictionResponseWrapper`"
      ],
      "metadata": {
        "id": "mkudiZ_A5znm"
      }
    },
    {
      "cell_type": "code",
      "source": [
        "class Language:\n",
        "  langs = {'af': \"Afrikaans\", 'ts': \"Tswana\", 'st': \"Sotho\", 'en': \"English\", 'xh': \"Xhosa\", 'zu': \"Zulu\"}\n",
        "  def __init__(self, id:int, code: str) -> None:\n",
        "    self.id = id\n",
        "    self.code = code\n",
        "    self.name = Language.langs.get(code)\n",
        "\n",
        "  def __str__(self) -> str:\n",
        "    return f\"<Language: {self.name}({self.code})>\"\n",
        "\n",
        "  def __repr__(self)->str:\n",
        "    return f\"<Language: {self.name}({self.code})>\"\n",
        "\n",
        "  def to_json(self):\n",
        "    return {\n",
        "        'id': self.id,\n",
        "        'code': self.code,\n",
        "        'name': self.name\n",
        "    }\n",
        "\n",
        "class PredictionResponse:\n",
        "  def __init__(self, language:Language, probability: float):\n",
        "    self.language = language\n",
        "    self.probability = probability\n",
        "\n",
        "  def __str__(self) -> str:\n",
        "    return f\"{self.language.name} ({self.language.code})\"\n",
        "\n",
        "  def __repr__(self) -> str:\n",
        "    return f\"{self.language.name} ({self.language.code})\"\n",
        "\n",
        "  def to_json(self):\n",
        "    return {\n",
        "        'language': self.language.to_json(),\n",
        "        'probability': self.probability,\n",
        "    }\n",
        "\n",
        "class LanguageIdentificationPredictionResponse:\n",
        "  def __init__(self, prediction:PredictionResponse, all: list, sent: str):\n",
        "    self.prediction = prediction\n",
        "    self.all = all\n",
        "\n",
        "  def __str__(self) -> str:\n",
        "    return f\"LanguageIdentificationPredictionResponse\"\n",
        "\n",
        "  def __repr__(self) -> str:\n",
        "    return f\"LanguageIdentificationPredictionResponse\"\n",
        "\n",
        "  def to_json(self):\n",
        "    return {\n",
        "        'prediction': self.prediction.to_json(),\n",
        "        'all': self.all\n",
        "    }\n",
        "\n",
        "class LanguageIdentificationPredictionResponseWrapper:\n",
        "  def __init__(self, response:LanguageIdentificationPredictionResponse, total: int=1, multiple:bool = True, eta:int =0):\n",
        "    self.response = response\n",
        "    self.multiple = multiple\n",
        "    self.total = total\n",
        "    self.eta = eta\n",
        "\n",
        "  def __str__(self) -> str:\n",
        "    return f\"LanguageIdentificationPredictionResponseWrapper\"\n",
        "\n",
        "  def __repr__(self) -> str:\n",
        "    return f\"LanguageIdentificationPredictionResponseWrapper\"\n",
        "\n",
        "  def to_json(self):\n",
        "    return {\n",
        "      \"response\": self.response if  isinstance(self.response, list) else self.response.to_json(),\n",
        "      \"meta\":{\n",
        "          'multiple': self.multiple,\n",
        "          'total': self.total,\n",
        "          'eta': self.eta\n",
        "      }\n",
        "    }\n"
      ],
      "metadata": {
        "id": "YYaTbSxLA8Qn"
      },
      "execution_count": 34,
      "outputs": []
    },
    {
      "cell_type": "markdown",
      "source": [
        "When making predictions user can give us one or more sentences and the model will be able to identify which language the `text` belongs to."
      ],
      "metadata": {
        "id": "d5_EZya96c-d"
      }
    },
    {
      "cell_type": "code",
      "source": [
        "classes = {v:k for k, v in labels_dict.items()}\n",
        "def predict(tensors, lengths, model, user_input):\n",
        "  if len(tensors.shape) == 2:\n",
        "    start = time.time()\n",
        "    probabilities = torch.softmax(model(tensors, lengths), dim=1).squeeze().detach().cpu().numpy()\n",
        "    pred = np.argmax(probabilities)\n",
        "    probability = float(probabilities[pred])\n",
        "    code = classes[pred]\n",
        "    prediction = PredictionResponse(Language(pred, code), round(probability, 2)) \n",
        "    all = [PredictionResponse(Language(i, classes[i]), round(prob, 2)).to_json() for i, prob in enumerate(probabilities)]\n",
        "    pred_response = LanguageIdentificationPredictionResponse(prediction, all, user_input)\n",
        "    end = time.time()\n",
        "    return LanguageIdentificationPredictionResponseWrapper(pred_response, multiple=False, eta=end-start).to_json()\n",
        "  else:\n",
        "    preds = []\n",
        "    start = time.time()\n",
        "    for length, tensor, sent in zip(lengths, tensors, user_input):\n",
        "      probabilities = torch.softmax(model(tensor, length), dim=1).squeeze().detach().cpu().numpy()\n",
        "      pred = np.argmax(probabilities)\n",
        "      probability = float(probabilities[pred])\n",
        "      code = classes[pred]\n",
        "      prediction = PredictionResponse(Language(pred, code), round(probability, 2)) \n",
        "      all = [PredictionResponse(Language(i, classes[i]), round(prob, 2)).to_json() for i, prob in enumerate(probabilities)]\n",
        "\n",
        "      pred_response = LanguageIdentificationPredictionResponse(prediction, all, sent)\n",
        "      preds.append(pred_response.to_json())\n",
        "    end = time.time()\n",
        "    return LanguageIdentificationPredictionResponseWrapper(preds, multiple=True, eta=end-start, total=len(user_input)).to_json()\n",
        "\n",
        "def indentify_language(model, user_input):\n",
        "  model.eval()\n",
        "  with torch.no_grad():\n",
        "    assert isinstance(user_input, list) or isinstance(user_input, str), \"The user input can be a list of sentences or a single sentence.\"\n",
        "    if isinstance(user_input, list):\n",
        "      tensors = torch.from_numpy(\n",
        "          np.array([inference_preprocess_text(sent).numpy() for sent in user_input])\n",
        "      ).to(device)\n",
        "      lengths = torch.LongTensor([len(t) for t in tensors]).unsqueeze(1)\n",
        "      return predict(tensors, lengths, model, user_input)\n",
        "    else:\n",
        "      tensors = inference_preprocess_text(user_input).to(device)\n",
        "      lengths = torch.LongTensor([len(t) for t in tensors])\n",
        "      return predict(tensors, lengths, model, user_input)\n",
        "indentify_language(li_model, [\"this\", \"molo\", \"sanibonani\"])"
      ],
      "metadata": {
        "colab": {
          "base_uri": "https://localhost:8080/"
        },
        "id": "7032XTyU3D3F",
        "outputId": "8de9589a-69e2-4563-d882-5e5dcf67742e"
      },
      "execution_count": 35,
      "outputs": [
        {
          "output_type": "execute_result",
          "data": {
            "text/plain": [
              "{'response': [{'prediction': {'language': {'id': 3,\n",
              "     'code': 'en',\n",
              "     'name': 'English'},\n",
              "    'probability': 0.76},\n",
              "   'all': [{'language': {'id': 0, 'code': 'af', 'name': 'Afrikaans'},\n",
              "     'probability': 0.03},\n",
              "    {'language': {'id': 1, 'code': 'ts', 'name': 'Tswana'},\n",
              "     'probability': 0.03},\n",
              "    {'language': {'id': 2, 'code': 'st', 'name': 'Sotho'},\n",
              "     'probability': 0.02},\n",
              "    {'language': {'id': 3, 'code': 'en', 'name': 'English'},\n",
              "     'probability': 0.76},\n",
              "    {'language': {'id': 4, 'code': 'xh', 'name': 'Xhosa'},\n",
              "     'probability': 0.01},\n",
              "    {'language': {'id': 5, 'code': 'zu', 'name': 'Zulu'},\n",
              "     'probability': 0.15}]},\n",
              "  {'prediction': {'language': {'id': 4, 'code': 'xh', 'name': 'Xhosa'},\n",
              "    'probability': 1.0},\n",
              "   'all': [{'language': {'id': 0, 'code': 'af', 'name': 'Afrikaans'},\n",
              "     'probability': 0.0},\n",
              "    {'language': {'id': 1, 'code': 'ts', 'name': 'Tswana'},\n",
              "     'probability': 0.0},\n",
              "    {'language': {'id': 2, 'code': 'st', 'name': 'Sotho'}, 'probability': 0.0},\n",
              "    {'language': {'id': 3, 'code': 'en', 'name': 'English'},\n",
              "     'probability': 0.0},\n",
              "    {'language': {'id': 4, 'code': 'xh', 'name': 'Xhosa'}, 'probability': 1.0},\n",
              "    {'language': {'id': 5, 'code': 'zu', 'name': 'Zulu'},\n",
              "     'probability': 0.0}]},\n",
              "  {'prediction': {'language': {'id': 5, 'code': 'zu', 'name': 'Zulu'},\n",
              "    'probability': 0.92},\n",
              "   'all': [{'language': {'id': 0, 'code': 'af', 'name': 'Afrikaans'},\n",
              "     'probability': 0.01},\n",
              "    {'language': {'id': 1, 'code': 'ts', 'name': 'Tswana'},\n",
              "     'probability': 0.01},\n",
              "    {'language': {'id': 2, 'code': 'st', 'name': 'Sotho'},\n",
              "     'probability': 0.01},\n",
              "    {'language': {'id': 3, 'code': 'en', 'name': 'English'},\n",
              "     'probability': 0.02},\n",
              "    {'language': {'id': 4, 'code': 'xh', 'name': 'Xhosa'},\n",
              "     'probability': 0.03},\n",
              "    {'language': {'id': 5, 'code': 'zu', 'name': 'Zulu'},\n",
              "     'probability': 0.92}]}],\n",
              " 'meta': {'multiple': True, 'total': 3, 'eta': 0.01242375373840332}}"
            ]
          },
          "metadata": {},
          "execution_count": 35
        }
      ]
    },
    {
      "cell_type": "code",
      "source": [
        "indentify_language(li_model, \"this is me.\")"
      ],
      "metadata": {
        "colab": {
          "base_uri": "https://localhost:8080/"
        },
        "id": "Z8vFI-FTWnQG",
        "outputId": "9d7d70dd-51eb-466c-eb20-3c599bcd843f"
      },
      "execution_count": 36,
      "outputs": [
        {
          "output_type": "execute_result",
          "data": {
            "text/plain": [
              "{'response': {'prediction': {'language': {'id': 3,\n",
              "    'code': 'en',\n",
              "    'name': 'English'},\n",
              "   'probability': 0.95},\n",
              "  'all': [{'language': {'id': 0, 'code': 'af', 'name': 'Afrikaans'},\n",
              "    'probability': 0.02},\n",
              "   {'language': {'id': 1, 'code': 'ts', 'name': 'Tswana'},\n",
              "    'probability': 0.01},\n",
              "   {'language': {'id': 2, 'code': 'st', 'name': 'Sotho'}, 'probability': 0.01},\n",
              "   {'language': {'id': 3, 'code': 'en', 'name': 'English'},\n",
              "    'probability': 0.95},\n",
              "   {'language': {'id': 4, 'code': 'xh', 'name': 'Xhosa'}, 'probability': 0.01},\n",
              "   {'language': {'id': 5, 'code': 'zu', 'name': 'Zulu'},\n",
              "    'probability': 0.01}]},\n",
              " 'meta': {'multiple': False, 'total': 1, 'eta': 0.007153749465942383}}"
            ]
          },
          "metadata": {},
          "execution_count": 36
        }
      ]
    },
    {
      "cell_type": "markdown",
      "source": [
        "### Confusion matrix.\n",
        "In the following code cell we are going to extract features and labels in the `test` dataset and use them to evaluate the best model. We are going to plot the `confusion_matrix`."
      ],
      "metadata": {
        "id": "VKWgVqSEQXGW"
      }
    },
    {
      "cell_type": "code",
      "source": [
        "test_features = []\n",
        "test_labels = []\n",
        "for (y, X) in test_loader:\n",
        "  test_features.extend(X.numpy())\n",
        "  test_labels.extend(y.numpy())\n",
        "test_features = torch.tensor([i for i in test_features])"
      ],
      "metadata": {
        "id": "zpWYeMnzCsJ9"
      },
      "execution_count": 51,
      "outputs": []
    },
    {
      "cell_type": "markdown",
      "source": [
        "Getting predictions"
      ],
      "metadata": {
        "id": "4O2G5H6kQ1Yk"
      }
    },
    {
      "cell_type": "code",
      "source": [
        "lengths = torch.tensor([len(i) for i in test_features])\n",
        "li_model.eval()\n",
        "preds = list()\n",
        "with torch.no_grad():\n",
        "  for length, feature in zip(lengths,test_features):\n",
        "    feature = torch.tensor([feature.detach().cpu().numpy()]).to(device)\n",
        "    length = torch.tensor([length.item()])\n",
        "    pred = torch.argmax(li_model(feature, length), dim=1).squeeze().cpu().item()\n",
        "    preds.append(pred)"
      ],
      "metadata": {
        "id": "2xzZG-tIQ3dJ"
      },
      "execution_count": 58,
      "outputs": []
    },
    {
      "cell_type": "markdown",
      "source": [
        "Getting the class names."
      ],
      "metadata": {
        "id": "-nDAdUikQ_gI"
      }
    },
    {
      "cell_type": "code",
      "source": [
        "classes_names = [k for k, v in labels_dict.items()]\n",
        "classes_names"
      ],
      "metadata": {
        "id": "wAxT0HJDQ5rf",
        "colab": {
          "base_uri": "https://localhost:8080/"
        },
        "outputId": "8c7ddd43-76b0-4efa-b2e6-b6062d9e4048"
      },
      "execution_count": 59,
      "outputs": [
        {
          "output_type": "execute_result",
          "data": {
            "text/plain": [
              "['af', 'ts', 'st', 'en', 'xh', 'zu']"
            ]
          },
          "metadata": {},
          "execution_count": 59
        }
      ]
    },
    {
      "cell_type": "markdown",
      "source": [
        "In the next code cell we are going to plot the confusion matrix. "
      ],
      "metadata": {
        "id": "jLE1nDjJRH-O"
      }
    },
    {
      "cell_type": "code",
      "source": [
        "visualization.plot_complicated_confusion_matrix(test_labels, preds, classes_names, figsize=(10, 10), fontsize=10)"
      ],
      "metadata": {
        "id": "Hgw3swGYRPLc",
        "colab": {
          "base_uri": "https://localhost:8080/",
          "height": 580
        },
        "outputId": "4da31f50-a61f-4b2e-a4bf-61dff1ab0a78"
      },
      "execution_count": 63,
      "outputs": [
        {
          "output_type": "display_data",
          "data": {
            "text/plain": [
              "<Figure size 720x720 with 2 Axes>"
            ],
            "image/png": "[encoded data removed]"
          },
          "metadata": {
            "needs_background": "light"
          }
        }
      ]
    },
    {
      "cell_type": "markdown",
      "source": [
        "### Downloading Model\n",
        "\n",
        "In the following code cell we are going to download the best model as a static file."
      ],
      "metadata": {
        "id": "AvZWNjPjRQt5"
      }
    },
    {
      "cell_type": "code",
      "source": [
        "files.download(MODEL_NAME)\n",
        "\n",
        "print(\"Done!\")"
      ],
      "metadata": {
        "id": "JfEfp4RFSNmI",
        "colab": {
          "base_uri": "https://localhost:8080/",
          "height": 52
        },
        "outputId": "142de92f-2836-4e2b-a1fd-6c129896f012"
      },
      "execution_count": 61,
      "outputs": [
        {
          "output_type": "display_data",
          "data": {
            "text/plain": [
              "<IPython.core.display.Javascript object>"
            ],
            "application/javascript": [
              "\n",
              "    async function download(id, filename, size) {\n",
              "      if (!google.colab.kernel.accessAllowed) {\n",
              "        return;\n",
              "      }\n",
              "      const div = document.createElement('div');\n",
              "      const label = document.createElement('label');\n",
              "      label.textContent = `Downloading \"${filename}\": `;\n",
              "      div.appendChild(label);\n",
              "      const progress = document.createElement('progress');\n",
              "      progress.max = size;\n",
              "      div.appendChild(progress);\n",
              "      document.body.appendChild(div);\n",
              "\n",
              "      const buffers = [];\n",
              "      let downloaded = 0;\n",
              "\n",
              "      const channel = await google.colab.kernel.comms.open(id);\n",
              "      // Send a message to notify the kernel that we're ready.\n",
              "      channel.send({})\n",
              "\n",
              "      for await (const message of channel.messages) {\n",
              "        // Send a message to notify the kernel that we're ready.\n",
              "        channel.send({})\n",
              "        if (message.buffers) {\n",
              "          for (const buffer of message.buffers) {\n",
              "            buffers.push(buffer);\n",
              "            downloaded += buffer.byteLength;\n",
              "            progress.value = downloaded;\n",
              "          }\n",
              "        }\n",
              "      }\n",
              "      const blob = new Blob(buffers, {type: 'application/binary'});\n",
              "      const a = document.createElement('a');\n",
              "      a.href = window.URL.createObjectURL(blob);\n",
              "      a.download = filename;\n",
              "      div.appendChild(a);\n",
              "      a.click();\n",
              "      div.remove();\n",
              "    }\n",
              "  "
            ]
          },
          "metadata": {}
        },
        {
          "output_type": "display_data",
          "data": {
            "text/plain": [
              "<IPython.core.display.Javascript object>"
            ],
            "application/javascript": [
              "download(\"download_fc7e6fc8-e984-4285-818b-c99c1222f02a\", \"li-model.pt\", 633122583)"
            ]
          },
          "metadata": {}
        },
        {
          "output_type": "stream",
          "name": "stdout",
          "text": [
            "Done!\n"
          ]
        }
      ]
    },
    {
      "cell_type": "markdown",
      "source": [
        "### Downloading Files\n",
        "\n",
        "In the following code cell we are going to create a `vocab.json` file and a `labels.json` file. Then we will download these files because our model inference process depend on the data that is in the `stoi` and `labels_dict` objects."
      ],
      "metadata": {
        "id": "tUqnYsX4SSGc"
      }
    },
    {
      "cell_type": "code",
      "source": [
        "with open('vocab.json', 'w') as writer:\n",
        "  writer.write(json.dumps(stoi, indent=2))\n",
        "\n",
        "with open('labels_dict.json', 'w') as writer:\n",
        "  writer.write(json.dumps(labels_dict, indent=2))\n",
        "\n",
        "files.download('vocab.json')\n",
        "files.download('labels_dict.json')\n",
        "\n",
        "print(\"Done!\")"
      ],
      "metadata": {
        "id": "P8GIM6l_SsMj",
        "colab": {
          "base_uri": "https://localhost:8080/",
          "height": 34
        },
        "outputId": "040e00c6-c71e-4ed8-c0a5-457930479504"
      },
      "execution_count": 62,
      "outputs": [
        {
          "output_type": "display_data",
          "data": {
            "text/plain": [
              "<IPython.core.display.Javascript object>"
            ],
            "application/javascript": [
              "\n",
              "    async function download(id, filename, size) {\n",
              "      if (!google.colab.kernel.accessAllowed) {\n",
              "        return;\n",
              "      }\n",
              "      const div = document.createElement('div');\n",
              "      const label = document.createElement('label');\n",
              "      label.textContent = `Downloading \"${filename}\": `;\n",
              "      div.appendChild(label);\n",
              "      const progress = document.createElement('progress');\n",
              "      progress.max = size;\n",
              "      div.appendChild(progress);\n",
              "      document.body.appendChild(div);\n",
              "\n",
              "      const buffers = [];\n",
              "      let downloaded = 0;\n",
              "\n",
              "      const channel = await google.colab.kernel.comms.open(id);\n",
              "      // Send a message to notify the kernel that we're ready.\n",
              "      channel.send({})\n",
              "\n",
              "      for await (const message of channel.messages) {\n",
              "        // Send a message to notify the kernel that we're ready.\n",
              "        channel.send({})\n",
              "        if (message.buffers) {\n",
              "          for (const buffer of message.buffers) {\n",
              "            buffers.push(buffer);\n",
              "            downloaded += buffer.byteLength;\n",
              "            progress.value = downloaded;\n",
              "          }\n",
              "        }\n",
              "      }\n",
              "      const blob = new Blob(buffers, {type: 'application/binary'});\n",
              "      const a = document.createElement('a');\n",
              "      a.href = window.URL.createObjectURL(blob);\n",
              "      a.download = filename;\n",
              "      div.appendChild(a);\n",
              "      a.click();\n",
              "      div.remove();\n",
              "    }\n",
              "  "
            ]
          },
          "metadata": {}
        },
        {
          "output_type": "display_data",
          "data": {
            "text/plain": [
              "<IPython.core.display.Javascript object>"
            ],
            "application/javascript": [
              "download(\"download_c6a7a0b0-d5fb-4531-aad8-f747ec2cd44b\", \"vocab.json\", 3382059)"
            ]
          },
          "metadata": {}
        },
        {
          "output_type": "display_data",
          "data": {
            "text/plain": [
              "<IPython.core.display.Javascript object>"
            ],
            "application/javascript": [
              "\n",
              "    async function download(id, filename, size) {\n",
              "      if (!google.colab.kernel.accessAllowed) {\n",
              "        return;\n",
              "      }\n",
              "      const div = document.createElement('div');\n",
              "      const label = document.createElement('label');\n",
              "      label.textContent = `Downloading \"${filename}\": `;\n",
              "      div.appendChild(label);\n",
              "      const progress = document.createElement('progress');\n",
              "      progress.max = size;\n",
              "      div.appendChild(progress);\n",
              "      document.body.appendChild(div);\n",
              "\n",
              "      const buffers = [];\n",
              "      let downloaded = 0;\n",
              "\n",
              "      const channel = await google.colab.kernel.comms.open(id);\n",
              "      // Send a message to notify the kernel that we're ready.\n",
              "      channel.send({})\n",
              "\n",
              "      for await (const message of channel.messages) {\n",
              "        // Send a message to notify the kernel that we're ready.\n",
              "        channel.send({})\n",
              "        if (message.buffers) {\n",
              "          for (const buffer of message.buffers) {\n",
              "            buffers.push(buffer);\n",
              "            downloaded += buffer.byteLength;\n",
              "            progress.value = downloaded;\n",
              "          }\n",
              "        }\n",
              "      }\n",
              "      const blob = new Blob(buffers, {type: 'application/binary'});\n",
              "      const a = document.createElement('a');\n",
              "      a.href = window.URL.createObjectURL(blob);\n",
              "      a.download = filename;\n",
              "      div.appendChild(a);\n",
              "      a.click();\n",
              "      div.remove();\n",
              "    }\n",
              "  "
            ]
          },
          "metadata": {}
        },
        {
          "output_type": "display_data",
          "data": {
            "text/plain": [
              "<IPython.core.display.Javascript object>"
            ],
            "application/javascript": [
              "download(\"download_934ac9e7-f079-4484-9977-1cec1f23f86d\", \"labels_dict.json\", 68)"
            ]
          },
          "metadata": {}
        },
        {
          "output_type": "stream",
          "name": "stdout",
          "text": [
            "Done!\n"
          ]
        }
      ]
    },
    {
      "cell_type": "markdown",
      "source": [
        "### Classification Report\n",
        "\n",
        "In the following code cell we are going to display the classification report for our model on the test examples."
      ],
      "metadata": {
        "id": "Bya71szpkzkq"
      }
    },
    {
      "cell_type": "code",
      "source": [
        "cr = classification_report(\n",
        "     np.array(test_labels), \n",
        "     np.array(preds),\n",
        "     target_names=np.array(classes_names), \n",
        ")\n",
        "print(cr)"
      ],
      "metadata": {
        "colab": {
          "base_uri": "https://localhost:8080/"
        },
        "id": "yF5DYceolddJ",
        "outputId": "f8a4f89a-907b-45e2-cc97-6029805e8a36"
      },
      "execution_count": 74,
      "outputs": [
        {
          "output_type": "stream",
          "name": "stdout",
          "text": [
            "              precision    recall  f1-score   support\n",
            "\n",
            "          af       1.00      0.99      0.99      4542\n",
            "          ts       1.00      0.98      0.99      4604\n",
            "          st       0.98      0.99      0.98      4462\n",
            "          en       0.96      1.00      0.98      4692\n",
            "          xh       0.98      0.97      0.98      4571\n",
            "          zu       0.98      0.97      0.98      4651\n",
            "\n",
            "    accuracy                           0.98     27522\n",
            "   macro avg       0.98      0.98      0.98     27522\n",
            "weighted avg       0.98      0.98      0.98     27522\n",
            "\n"
          ]
        }
      ]
    }
  ],
  "metadata": {
    "colab": {
      "collapsed_sections": [],
      "provenance": []
    },
    "gpuClass": "standard",
    "kernelspec": {
      "display_name": "Python 3",
      "language": "python",
      "name": "python3"
    },
    "language_info": {
      "codemirror_mode": {
        "name": "ipython",
        "version": 3
      },
      "file_extension": ".py",
      "mimetype": "text/x-python",
      "name": "python",
      "nbconvert_exporter": "python",
      "pygments_lexer": "ipython3",
      "version": "3.8.5"
    },
    "accelerator": "GPU"
  },
  "nbformat": 4,
  "nbformat_minor": 0
}