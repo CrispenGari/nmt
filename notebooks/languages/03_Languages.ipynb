{
  "nbformat": 4,
  "nbformat_minor": 0,
  "metadata": {
    "colab": {
      "name": "03_Languages.ipynb",
      "provenance": [],
      "collapsed_sections": []
    },
    "kernelspec": {
      "name": "python3",
      "display_name": "Python 3"
    },
    "language_info": {
      "name": "python"
    }
  },
  "cells": [
    {
      "cell_type": "markdown",
      "source": [
        "\n",
        "### Neural Machine Translation (Languages Code)\n",
        "In this notebook we are going to scrap the langauges together with their language codes on [wikipedia](https://en.wikipedia.org/wiki/List_of_ISO_639-1_codes)\n",
        "___\n",
        "\n",
        "Topic: `NMT`\n",
        "\n",
        "Date: `2022/07/24`\n",
        "\n",
        "Programming Language: `python`\n",
        "\n",
        "Main: `Natural Language Processing (NLP)`\n",
        "\n",
        "___\n",
        "\n",
        "### Imports\n",
        "In the following code cell we are going to import the python packages that we are going to use in this notebook."
      ],
      "metadata": {
        "id": "AKVIknbHdBcO"
      }
    },
    {
      "cell_type": "code",
      "execution_count": 5,
      "metadata": {
        "id": "vGxZ7RNOc89D"
      },
      "outputs": [],
      "source": [
        "from google.colab import files, drive\n",
        "import os, json\n",
        "import requests\n",
        "from bs4 import BeautifulSoup as bs"
      ]
    },
    {
      "cell_type": "markdown",
      "source": [
        "### Mounting the drive\n",
        "\n",
        "In the following code cell we are going to mount our google drive as we are going to save our languages file in google drive."
      ],
      "metadata": {
        "id": "4jGeoe41eC2Q"
      }
    },
    {
      "cell_type": "code",
      "source": [
        "drive.mount('/content/drive')"
      ],
      "metadata": {
        "colab": {
          "base_uri": "https://localhost:8080/"
        },
        "id": "RxESJ0a0eBgI",
        "outputId": "9f7292ca-7352-40f7-cc78-55e8292a6abb"
      },
      "execution_count": 6,
      "outputs": [
        {
          "output_type": "stream",
          "name": "stdout",
          "text": [
            "Mounted at /content/drive\n"
          ]
        }
      ]
    },
    {
      "cell_type": "markdown",
      "source": [
        "### Defining our path.\n",
        "\n",
        "This is the path where we are going to save our `language.json` file."
      ],
      "metadata": {
        "id": "lWvTcbn7etch"
      }
    },
    {
      "cell_type": "code",
      "source": [
        "base_dir = '/content/drive/My Drive/NLP Data/nmt'\n",
        "\n",
        "assert os.path.exists(base_dir), f\"The path '{base_dir}' does not exists, check if you have mounted the google drive.\"\n",
        "\n",
        "save_path = os.path.join(base_dir, \"languages.json\")"
      ],
      "metadata": {
        "id": "Qt4L0XpPeVwL"
      },
      "execution_count": 7,
      "outputs": []
    },
    {
      "cell_type": "markdown",
      "source": [
        "### Getting the Content of the website\n",
        " \n",
        "In the following code cell we are going to get the content of the [`wikipedia-website`](https://en.wikipedia.org/wiki/List_of_ISO_639-1_codes) using the python `requests` module."
      ],
      "metadata": {
        "id": "g1SDMyqek8IV"
      }
    },
    {
      "cell_type": "code",
      "source": [
        "url = \"https://en.wikipedia.org/wiki/List_of_ISO_639-1_codes\"\n",
        "html = requests.get(url)\n",
        "html"
      ],
      "metadata": {
        "colab": {
          "base_uri": "https://localhost:8080/"
        },
        "id": "DNG0Dw0mevv7",
        "outputId": "73914656-717c-4f65-bb05-3ff72d8c6116"
      },
      "execution_count": 8,
      "outputs": [
        {
          "output_type": "execute_result",
          "data": {
            "text/plain": [
              "<Response [200]>"
            ]
          },
          "metadata": {},
          "execution_count": 8
        }
      ]
    },
    {
      "cell_type": "markdown",
      "source": [
        "### Soup Object\n",
        "\n",
        "In the following code cell we are going to create a `soup` object."
      ],
      "metadata": {
        "id": "r2gga0wYlTmr"
      }
    },
    {
      "cell_type": "code",
      "source": [
        "soup = bs(html.content, 'html.parser')"
      ],
      "metadata": {
        "id": "G4qJa4pRevsd"
      },
      "execution_count": 9,
      "outputs": []
    },
    {
      "cell_type": "markdown",
      "source": [
        "### Defining columns\n",
        "So the followng columns will be used as our keys to our `language.json` file."
      ],
      "metadata": {
        "id": "bq8fvxHplcL4"
      }
    },
    {
      "cell_type": "code",
      "source": [
        "columns = [\"Language\", \"ISO 639-1\", \"ISO 639-2/T\", \"ISO 639-2/B\", \"ISO 639-3\", \"Description\"]"
      ],
      "metadata": {
        "id": "_o6CqG4Efmg5"
      },
      "execution_count": 22,
      "outputs": []
    },
    {
      "cell_type": "markdown",
      "source": [
        "### Scracping the language table.\n",
        "\n",
        "In the following code cell we are going to scrape the whole table for langugaes."
      ],
      "metadata": {
        "id": "IONaxdlKlmqu"
      }
    },
    {
      "cell_type": "code",
      "source": [
        "# finding the table in the DOM\n",
        "table = soup.find(\"table\")\n",
        "# Getting all the tr of the table\n",
        "trs = table.find_all('tr')\n",
        "data = list()\n",
        "for tr in trs[1:]: # ignore the first headers\n",
        "  # get all the td of the tr\n",
        "  row = tuple(x.text for x in tr.find_all('td'))\n",
        "  data.append(row)"
      ],
      "metadata": {
        "id": "LKYenhNpevo2"
      },
      "execution_count": 31,
      "outputs": []
    },
    {
      "cell_type": "markdown",
      "source": [
        "### Generating `json` data\n",
        "\n",
        "In teh following code cell we are going to generate the `json_data`  as a list of python dictionaries."
      ],
      "metadata": {
        "id": "hzGOTDRelxkI"
      }
    },
    {
      "cell_type": "code",
      "source": [
        "json_data = [ {\n",
        "              \"Language\": l, \"ISO 639-1\": c1, \"ISO 639-2/T\": c2, \"ISO 639-2/B\": c3, \"ISO 639-3\":c4, \"Description\":d\n",
        "              } for (l, c1, c2, c3, c4, d) in data\n",
        "             ]"
      ],
      "metadata": {
        "id": "CmiWqvLyevlM"
      },
      "execution_count": 43,
      "outputs": []
    },
    {
      "cell_type": "markdown",
      "source": [
        "Checking a single example"
      ],
      "metadata": {
        "id": "B1MrtsBgm4u_"
      }
    },
    {
      "cell_type": "code",
      "source": [
        "json_data[0]"
      ],
      "metadata": {
        "colab": {
          "base_uri": "https://localhost:8080/"
        },
        "id": "RA6Hn3XWerJz",
        "outputId": "08c3b1ff-a0ed-41d4-ed37-6f32e588d14d"
      },
      "execution_count": 44,
      "outputs": [
        {
          "output_type": "execute_result",
          "data": {
            "text/plain": [
              "{'Description': 'also known as Abkhaz\\n',\n",
              " 'ISO 639-1': 'ab',\n",
              " 'ISO 639-2/B': 'abk',\n",
              " 'ISO 639-2/T': 'abk',\n",
              " 'ISO 639-3': 'abk',\n",
              " 'Language': 'Abkhazian'}"
            ]
          },
          "metadata": {},
          "execution_count": 44
        }
      ]
    },
    {
      "cell_type": "markdown",
      "source": [
        "Saving our language.json file"
      ],
      "metadata": {
        "id": "M3pHVvXDm7ip"
      }
    },
    {
      "cell_type": "code",
      "source": [
        "with open(save_path, 'w') as writter:\n",
        "  writter.write(json.dumps(json_data, indent=2))\n",
        "\n",
        "print(\"Done\")"
      ],
      "metadata": {
        "colab": {
          "base_uri": "https://localhost:8080/"
        },
        "id": "Zz7vez-hjcAQ",
        "outputId": "9a3d0e73-bc48-464c-8872-37316bb56821"
      },
      "execution_count": 45,
      "outputs": [
        {
          "output_type": "stream",
          "name": "stdout",
          "text": [
            "Done\n"
          ]
        }
      ]
    },
    {
      "cell_type": "markdown",
      "source": [
        "Downloading our `language.json` file"
      ],
      "metadata": {
        "id": "wLu1Ucs8nA2T"
      }
    },
    {
      "cell_type": "code",
      "source": [
        "files.download(save_path)"
      ],
      "metadata": {
        "colab": {
          "base_uri": "https://localhost:8080/",
          "height": 17
        },
        "id": "voYUoynNj2FS",
        "outputId": "3b0f2c43-ba6b-4e87-b6e2-1a2521190d52"
      },
      "execution_count": 46,
      "outputs": [
        {
          "output_type": "display_data",
          "data": {
            "text/plain": [
              "<IPython.core.display.Javascript object>"
            ],
            "application/javascript": [
              "\n",
              "    async function download(id, filename, size) {\n",
              "      if (!google.colab.kernel.accessAllowed) {\n",
              "        return;\n",
              "      }\n",
              "      const div = document.createElement('div');\n",
              "      const label = document.createElement('label');\n",
              "      label.textContent = `Downloading \"${filename}\": `;\n",
              "      div.appendChild(label);\n",
              "      const progress = document.createElement('progress');\n",
              "      progress.max = size;\n",
              "      div.appendChild(progress);\n",
              "      document.body.appendChild(div);\n",
              "\n",
              "      const buffers = [];\n",
              "      let downloaded = 0;\n",
              "\n",
              "      const channel = await google.colab.kernel.comms.open(id);\n",
              "      // Send a message to notify the kernel that we're ready.\n",
              "      channel.send({})\n",
              "\n",
              "      for await (const message of channel.messages) {\n",
              "        // Send a message to notify the kernel that we're ready.\n",
              "        channel.send({})\n",
              "        if (message.buffers) {\n",
              "          for (const buffer of message.buffers) {\n",
              "            buffers.push(buffer);\n",
              "            downloaded += buffer.byteLength;\n",
              "            progress.value = downloaded;\n",
              "          }\n",
              "        }\n",
              "      }\n",
              "      const blob = new Blob(buffers, {type: 'application/binary'});\n",
              "      const a = document.createElement('a');\n",
              "      a.href = window.URL.createObjectURL(blob);\n",
              "      a.download = filename;\n",
              "      div.appendChild(a);\n",
              "      a.click();\n",
              "      div.remove();\n",
              "    }\n",
              "  "
            ]
          },
          "metadata": {}
        },
        {
          "output_type": "display_data",
          "data": {
            "text/plain": [
              "<IPython.core.display.Javascript object>"
            ],
            "application/javascript": [
              "download(\"download_0f52ce19-2335-4e81-a60e-bed91c5959d3\", \"languages.json\", 32572)"
            ]
          },
          "metadata": {}
        }
      ]
    },
    {
      "cell_type": "code",
      "source": [
        ""
      ],
      "metadata": {
        "id": "diEOlgvvnG3K"
      },
      "execution_count": null,
      "outputs": []
    }
  ]
}