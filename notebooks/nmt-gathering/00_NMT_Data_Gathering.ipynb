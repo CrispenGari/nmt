{
  "cells": [
    {
      "cell_type": "markdown",
      "metadata": {
        "id": "kM9Zc0gV0vKC"
      },
      "source": [
        "\n",
        "### Neural Machine Translation Data Gathering\n",
        "\n",
        "In this notebook we are going to gather as more english sentence as we can so that we create a `nmt` datasets based on the gathered data. We are going to gather data or tweets from different topics.\n",
        "___\n",
        "\n",
        "Topic: `NMT`\n",
        "\n",
        "Date: `2022/07/19`\n",
        "\n",
        "Programming Language: `python`\n",
        "\n",
        "Main: `Natural Language Processing (NLP)`\n",
        "\n",
        "___\n",
        "\n",
        "\n",
        "\n",
        "### NMT Dataset Scrapping\n",
        "\n",
        "In this notebook we are ging to use the `twitter` API to collect data for tweets `nmt` task. We are going to use python programming language to scrap the data from twitter. We are going to use `tweepy` together with api keys. \n",
        "\n",
        "\n",
        "### Installation of `tweepy`\n",
        "In the following code cell we are going to install the latest version of `tweepy`. This package allows us to interact twitter using python programming language using.\n"
      ]
    },
    {
      "cell_type": "code",
      "execution_count": 1,
      "metadata": {
        "id": "UYS2rKL00vKM"
      },
      "outputs": [],
      "source": [
        "!pip install tweepy --upgrade -q"
      ]
    },
    {
      "cell_type": "markdown",
      "metadata": {
        "id": "McNtBvBPjEXu"
      },
      "source": [
        "### Why tweepy?\n",
        "\n",
        "We can use libraries like `selenium` to scrape the data for our task but tweepy comes with the following advantages:\n",
        "\n",
        "* Provides many features about a given tweet (e.g. information about a tweet’s geographical location, etc.)\n",
        "* Easy to use.\n",
        "* This is an official way of getting tweets from tweeter especially for research purposes.\n",
        "* It has a well written docummentation.\n",
        "\n",
        "However, tweepy comes with some limitations such as:\n",
        "\n",
        "* Limiting API requests.\n"
      ]
    },
    {
      "cell_type": "markdown",
      "source": [
        "### Installing the package for helper Function\n",
        "\n",
        "We are going to install a package called [`helperfs`](https://github.com/CrispenGari/helperfns). This is the package that i've created that contains some helper function that can be useful in this task.\n"
      ],
      "metadata": {
        "id": "U2ifGYBKPiSb"
      }
    },
    {
      "cell_type": "code",
      "source": [
        "!pip install helperfns -q"
      ],
      "metadata": {
        "id": "ZhJDj4doQTrE"
      },
      "execution_count": 2,
      "outputs": []
    },
    {
      "cell_type": "markdown",
      "metadata": {
        "id": "2BqgT6Yn0vKW"
      },
      "source": [
        "### Importing packages\n",
        "In the following code cell we are going to import packages that we are going to use in this notebook."
      ]
    },
    {
      "cell_type": "code",
      "execution_count": 4,
      "metadata": {
        "colab": {
          "base_uri": "https://localhost:8080/",
          "height": 35
        },
        "id": "4An5qFaM0vKX",
        "outputId": "72aa86dc-c68a-4262-be26-1cfeb591e3a2"
      },
      "outputs": [
        {
          "output_type": "execute_result",
          "data": {
            "text/plain": [
              "'4.10.0'"
            ],
            "application/vnd.google.colaboratory.intrinsic+json": {
              "type": "string"
            }
          },
          "metadata": {},
          "execution_count": 4
        }
      ],
      "source": [
        "import numpy as np\n",
        "import seaborn as sns\n",
        "import matplotlib.pyplot as plt\n",
        "import tweepy as tp\n",
        "import pandas as pd\n",
        "\n",
        "import os\n",
        "import re\n",
        "import json\n",
        "\n",
        "from helperfns.text import clean_sentence\n",
        "\n",
        "\n",
        "tp.__version__"
      ]
    },
    {
      "cell_type": "markdown",
      "metadata": {
        "id": "Nycjxl6B0vKZ"
      },
      "source": [
        "### File System\n",
        "\n",
        "We are going to store and load data from google drive so, we need to mount the goggle drive. In the following code cell we are mounting the google drive.\n"
      ]
    },
    {
      "cell_type": "code",
      "execution_count": 5,
      "metadata": {
        "colab": {
          "base_uri": "https://localhost:8080/"
        },
        "id": "dKkslu7e2G0w",
        "outputId": "08c53f45-ccae-46ed-faf6-75851bf55955"
      },
      "outputs": [
        {
          "output_type": "stream",
          "name": "stdout",
          "text": [
            "Drive already mounted at /content/drive; to attempt to forcibly remount, call drive.mount(\"/content/drive\", force_remount=True).\n"
          ]
        }
      ],
      "source": [
        "from google.colab import drive, files\n",
        "\n",
        "drive.mount('/content/drive')"
      ]
    },
    {
      "cell_type": "markdown",
      "metadata": {
        "id": "iQ0S_C2b2W5g"
      },
      "source": [
        "### Paths\n",
        "\n",
        "In the following code cell we are going to define the paths where all our files will be stored in the google drive."
      ]
    },
    {
      "cell_type": "code",
      "execution_count": 6,
      "metadata": {
        "id": "2AbwEHzX2ghH"
      },
      "outputs": [],
      "source": [
        "base_dir = '/content/drive/My Drive/NLP Data/nmt'\n",
        "\n",
        "assert os.path.exists(base_dir), f\"The path '{base_dir}' does not exists, check if you have mounted the google drive.\""
      ]
    },
    {
      "cell_type": "markdown",
      "metadata": {
        "id": "67Pc_BnD0vKb"
      },
      "source": [
        "### Getting Keys\n",
        "\n",
        "Inorder to scrap data from twitter using `tweepy` we need to have a [twitter-developer-account](https://developer.twitter.com/en) which can be created [here](https://developer.twitter.com/en). Inoder to get these keys you need to:\n",
        "\n",
        "1. login to your twitter developer account\n",
        "2. create an application\n",
        "3. get the following keys\n",
        "    * `API_KEY`\n",
        "    * `API_SECRET`\n",
        "    * `ACCESS_TOKEN`\n",
        "    * `ACCESS_TOKEN_SECRET`\n",
        "        \n",
        "After getting these keys we are gong to create a file called `keys.json` which is where we are gong to store our keys instead of displaying them here in this notebook. The `keys.json` file will look as follows:\n",
        "\n",
        "```json\n",
        "{\n",
        " \"API_KEY\" : \"<YOUR_API_KEY>\",\n",
        " \"API_SECRET\": \"<YOUR_API_SECRETE>\",\n",
        " \"ACCESS_TOKEN\": \"<YOUR_ACCESS_TOKEN>\",\n",
        " \"ACCESS_TOKEN_SECRET\": \"<YOUR_ACCESS_TOKEN_SECRETE>\"\n",
        "}\n",
        "```"
      ]
    },
    {
      "cell_type": "markdown",
      "metadata": {
        "id": "JKUn-5vx0vKc"
      },
      "source": [
        "### Loading `KEYS`.\n",
        "\n",
        "In the following code cell we are going to load `KEYS` from an external file `keys.json`. The reason I'm loading these keys from an external file it's because i dont want them to be visible in this notebook and I'm going to add the file name in the `.gitignore` file so that when this code is pushed to `github` the `keys.json` won't be uploaded and noone will have access to our `keys` to use them on our behalf."
      ]
    },
    {
      "cell_type": "code",
      "execution_count": 7,
      "metadata": {
        "id": "nByMldPQ0vKe"
      },
      "outputs": [],
      "source": [
        "with open(os.path.join(base_dir, 'keys-2.json'), 'r') as reader:\n",
        "    keys = json.loads(reader.read())"
      ]
    },
    {
      "cell_type": "markdown",
      "metadata": {
        "id": "-Gje0dHZ0vKf"
      },
      "source": [
        "### Keys Type\n",
        "In the following code cell we are going to create a data class type called `Keys`. This datatype class will store our keys as an object."
      ]
    },
    {
      "cell_type": "code",
      "execution_count": 8,
      "metadata": {
        "id": "1cHmOB9D0vKf"
      },
      "outputs": [],
      "source": [
        "class Keys:\n",
        "    API_KEY             = keys['API_KEY']\n",
        "    API_SECRET          = keys['API_SECRET']\n",
        "    ACCESS_TOKEN        = keys['ACCESS_TOKEN']\n",
        "    ACCESS_TOKEN_SECRET = keys['ACCESS_TOKEN_SECRET']"
      ]
    },
    {
      "cell_type": "markdown",
      "metadata": {
        "id": "itMdntw10vKg"
      },
      "source": [
        "### Creating `api` object\n",
        "\n",
        "We are going to autheticate to our twitter developer account using the `OAuthHandler` class. This class takes in two arguments which are:\n",
        "\n",
        "* `API_KEY`\n",
        "* `API_SECRET`\n",
        "\n",
        "On our object `auth` we are going to use the method called `set_access_token` that takes in the followng arguments.\n",
        "* `ACCESS_TOKEN`\n",
        "* `ACCESS_TOKEN_SECRET`\n",
        "\n",
        "We are then going to create an `api` object and pass in the `authentication`.\n"
      ]
    },
    {
      "cell_type": "code",
      "execution_count": 9,
      "metadata": {
        "id": "Za99aMHa0vKg"
      },
      "outputs": [],
      "source": [
        "auth = tp.OAuthHandler(Keys.API_KEY, Keys.API_SECRET)\n",
        "auth.set_access_token(Keys.ACCESS_TOKEN, Keys.ACCESS_TOKEN_SECRET)\n",
        "api = tp.API(auth, wait_on_rate_limit=True)"
      ]
    },
    {
      "cell_type": "markdown",
      "metadata": {
        "id": "t4EiIM5A0vKh"
      },
      "source": [
        "### Querying data on Twitter\n",
        "\n",
        "We are going to query tweets for different topics on tweeter. And we are going to query as more tweets as we can."
      ]
    },
    {
      "cell_type": "code",
      "execution_count": 10,
      "metadata": {
        "id": "SxH8F4P70vKh"
      },
      "outputs": [],
      "source": [
        "COUNT = 500_000"
      ]
    },
    {
      "cell_type": "markdown",
      "metadata": {
        "id": "Fp_lK_Oa0vKi"
      },
      "source": [
        "### Data Class Tweet\n",
        "In the following code cell we are going to create a datatype called `Tweet`. This datatype will contain properties that we are interested in on a single `tweet` object. On each and every tweet we are going to be intrested with the following attributes:\n",
        "\n",
        "1. `id` - the tweet id\n",
        "\n",
        "2. `created_at` - the date a tweet was created\n",
        "\n",
        "3. `username` - who tweeted this tweet\n",
        "\n",
        "4. `text` - the text content of the tweet"
      ]
    },
    {
      "cell_type": "code",
      "execution_count": 11,
      "metadata": {
        "id": "O3P0EhVj0vKi"
      },
      "outputs": [],
      "source": [
        "class Tweet:\n",
        "    def __init__(self, id:str, created_at:str, username:str, text:str):\n",
        "        self.id = id\n",
        "        self.created_at = created_at\n",
        "        self.username = username\n",
        "        self.text = text\n",
        "    \n",
        "    def __str__(self):\n",
        "        return f\"Tweet <{self.id}>\"\n",
        "    \n",
        "    def __repr__(self):\n",
        "        return f\"Tweet <{self.id}>\""
      ]
    },
    {
      "cell_type": "markdown",
      "metadata": {
        "id": "wxVHT-efllf8"
      },
      "source": [
        "### Queries\n",
        "\n",
        "Our queries will be based on the following keyword search on twitter:\n",
        "\n",
        "```\n",
        "[\n",
        "  'farewell',\n",
        " 'impromptu',\n",
        " 'explanatory',\n",
        " 'eulogy',\n",
        " 'demonstrative',\n",
        " 'entertaining',\n",
        " 'debate',\n",
        " 'motivational',\n",
        " 'informative',\n",
        " 'pitch',\n",
        " 'persuasive',\n",
        " 'oratorical',\n",
        " 'occasion', \n",
        " 'joke', \n",
        " 'greating', \n",
        " 'culture',\n",
        " 'sports',\n",
        " 'art'\n",
        " ]\n",
        "```"
      ]
    },
    {
      "cell_type": "code",
      "execution_count": null,
      "metadata": {
        "id": "I8HTmo34e-eZ"
      },
      "outputs": [],
      "source": [
        "\n",
        "tweets = list()\n",
        "topic = 'art'\n",
        "for tweet in tp.Cursor(api.search_tweets, q=topic,lang=\"en\",tweet_mode=\"extended\", count=200).items(COUNT):\n",
        "  tweet = tweet._json\n",
        "  data = (tweet['id'], tweet['created_at'], tweet['user']['screen_name'], tweet['full_text'])\n",
        "  tweets.append(Tweet(*data))\n"
      ]
    },
    {
      "cell_type": "markdown",
      "metadata": {
        "id": "9sQ4N4fA0vKl"
      },
      "source": [
        "### Checking a single `tweet` example\n",
        "In the following code cell we are going to check a single tweet example."
      ]
    },
    {
      "cell_type": "code",
      "execution_count": 108,
      "metadata": {
        "id": "bWw92CGIhYyQ",
        "colab": {
          "base_uri": "https://localhost:8080/",
          "height": 35
        },
        "outputId": "c6f53daf-74c3-4877-a0c3-eb9cf6361a85"
      },
      "outputs": [
        {
          "output_type": "execute_result",
          "data": {
            "text/plain": [
              "\"RT @warehouseno_8: #LLDFest2k22 DAY 5\\n\\n🥪 https://t.co/uM3stCnGlZ 🕵️\\n\\nGong Jun's sandwich has gone missing and he needs your help! A Choose…\""
            ],
            "application/vnd.google.colaboratory.intrinsic+json": {
              "type": "string"
            }
          },
          "metadata": {},
          "execution_count": 108
        }
      ],
      "source": [
        "tweets[0].text"
      ]
    },
    {
      "cell_type": "code",
      "execution_count": 109,
      "metadata": {
        "id": "0BJf0TU_iTpW",
        "colab": {
          "base_uri": "https://localhost:8080/"
        },
        "outputId": "8489b432-32b7-46fb-a306-b19a5128a7e2"
      },
      "outputs": [
        {
          "output_type": "execute_result",
          "data": {
            "text/plain": [
              "15122"
            ]
          },
          "metadata": {},
          "execution_count": 109
        }
      ],
      "source": [
        "len(tweets)"
      ]
    },
    {
      "cell_type": "markdown",
      "metadata": {
        "id": "2Iyl-MWi0vKt"
      },
      "source": [
        "### Clean Tweets\n",
        "\n",
        "We are then going to clean our tweets text as a `csv` file that will be located in the `<topic>` folder with a file name `<topic>.csv`. Our `csv` file will have the following columns.\n",
        "\n",
        "1. `created_at` - the date when the tweet was created\n",
        "\n",
        "2. `text` - the tweet cleaned text\n",
        "\n",
        "3. `username` - the user who wrote the tweet.\n",
        "\n",
        "4. `id` - the tweet id.\n"
      ]
    },
    {
      "cell_type": "code",
      "execution_count": 110,
      "metadata": {
        "id": "FSPaT-a80vKt"
      },
      "outputs": [],
      "source": [
        "cleaned_tweets = list()\n",
        "\n",
        "for twt in tweets:\n",
        "  # Removing all retweets:\n",
        "  if twt.text.startswith(\"RT\"):\n",
        "    continue\n",
        "  else:\n",
        "    twt_txt = clean_sentence(twt.text)\n",
        "    twt_id = twt.id\n",
        "    twt_create_at = twt.created_at\n",
        "    twt_username = twt.username\n",
        "    \n",
        "    cleaned_tweets.append(tuple([twt_id, twt_create_at, twt_username, twt_txt]))"
      ]
    },
    {
      "cell_type": "code",
      "execution_count": 112,
      "metadata": {
        "id": "1nf5XyAmmXap",
        "colab": {
          "base_uri": "https://localhost:8080/"
        },
        "outputId": "a64dadbf-350a-45a3-e674-c8651b9ce454"
      },
      "outputs": [
        {
          "output_type": "execute_result",
          "data": {
            "text/plain": [
              "5824"
            ]
          },
          "metadata": {},
          "execution_count": 112
        }
      ],
      "source": [
        "len(cleaned_tweets)"
      ]
    },
    {
      "cell_type": "markdown",
      "metadata": {
        "id": "jm_6ecA60vKu"
      },
      "source": [
        "### Columns\n",
        "In the following code cell we are going to define the columns name that we are going to need in our `.csv` file as follows."
      ]
    },
    {
      "cell_type": "code",
      "execution_count": 113,
      "metadata": {
        "id": "-b9gDI2b0vKu"
      },
      "outputs": [],
      "source": [
        "columns = np.array(['id', 'created_at', 'username', 'text'])"
      ]
    },
    {
      "cell_type": "markdown",
      "metadata": {
        "id": "Epi4Aor00vKu"
      },
      "source": [
        "### Dataframe\n",
        "In the following column we are going to create a dataframe base on our `cleaned_tweets` list and check the first `10` rows of our data as follows:\n",
        "    "
      ]
    },
    {
      "cell_type": "code",
      "execution_count": 100,
      "metadata": {
        "id": "oAKBG0D10vKu",
        "colab": {
          "base_uri": "https://localhost:8080/",
          "height": 363
        },
        "outputId": "6759f76f-3472-4f58-9046-dd0fa368f342"
      },
      "outputs": [
        {
          "output_type": "execute_result",
          "data": {
            "text/plain": [
              "                    id                      created_at         username  \\\n",
              "0  1549839010029240328  Wed Jul 20 19:29:49 +0000 2022       BGamboe380   \n",
              "1  1549839008863338497  Wed Jul 20 19:29:48 +0000 2022     SportsDayDFW   \n",
              "2  1549839005054865414  Wed Jul 20 19:29:48 +0000 2022       MalickDaho   \n",
              "3  1549839004836794368  Wed Jul 20 19:29:48 +0000 2022    Dovehousecars   \n",
              "4  1549838995965845504  Wed Jul 20 19:29:45 +0000 2022    JohnLeviBaker   \n",
              "5  1549838992597729280  Wed Jul 20 19:29:45 +0000 2022  Sorelle_Arduino   \n",
              "6  1549838986285236224  Wed Jul 20 19:29:43 +0000 2022    Kumarreddy222   \n",
              "7  1549838985324859392  Wed Jul 20 19:29:43 +0000 2022      xProudPapax   \n",
              "8  1549838983097552896  Wed Jul 20 19:29:42 +0000 2022     ltimmerman25   \n",
              "9  1549838976160112640  Wed Jul 20 19:29:41 +0000 2022   Conferenceof12   \n",
              "\n",
              "                                                text  \n",
              "0  the sports media had their time to disrespect ...  \n",
              "1  listen rocker s a ranger golf s a threat and m...  \n",
              "2               _rwanda _sports my man put on a show  \n",
              "3  new in coupe manual in midnight blue with metr...  \n",
              "4  _sell bazooka gold parallel rookie pop only hi...  \n",
              "5  so you think a male bodied person should be in...  \n",
              "6  _ranjitbajaj first this guy does not know abou...  \n",
              "7  _misfit i am trying to follow as much sports i...  \n",
              "8  how many do the current roster of the call hom...  \n",
              "9  _sports it s a sign language y as well as the ...  "
            ],
            "text/html": [
              "\n",
              "  <div id=\"df-906f33ed-3771-4e01-b95b-cd7b7df1199e\">\n",
              "    <div class=\"colab-df-container\">\n",
              "      <div>\n",
              "<style scoped>\n",
              "    .dataframe tbody tr th:only-of-type {\n",
              "        vertical-align: middle;\n",
              "    }\n",
              "\n",
              "    .dataframe tbody tr th {\n",
              "        vertical-align: top;\n",
              "    }\n",
              "\n",
              "    .dataframe thead th {\n",
              "        text-align: right;\n",
              "    }\n",
              "</style>\n",
              "<table border=\"1\" class=\"dataframe\">\n",
              "  <thead>\n",
              "    <tr style=\"text-align: right;\">\n",
              "      <th></th>\n",
              "      <th>id</th>\n",
              "      <th>created_at</th>\n",
              "      <th>username</th>\n",
              "      <th>text</th>\n",
              "    </tr>\n",
              "  </thead>\n",
              "  <tbody>\n",
              "    <tr>\n",
              "      <th>0</th>\n",
              "      <td>1549839010029240328</td>\n",
              "      <td>Wed Jul 20 19:29:49 +0000 2022</td>\n",
              "      <td>BGamboe380</td>\n",
              "      <td>the sports media had their time to disrespect ...</td>\n",
              "    </tr>\n",
              "    <tr>\n",
              "      <th>1</th>\n",
              "      <td>1549839008863338497</td>\n",
              "      <td>Wed Jul 20 19:29:48 +0000 2022</td>\n",
              "      <td>SportsDayDFW</td>\n",
              "      <td>listen rocker s a ranger golf s a threat and m...</td>\n",
              "    </tr>\n",
              "    <tr>\n",
              "      <th>2</th>\n",
              "      <td>1549839005054865414</td>\n",
              "      <td>Wed Jul 20 19:29:48 +0000 2022</td>\n",
              "      <td>MalickDaho</td>\n",
              "      <td>_rwanda _sports my man put on a show</td>\n",
              "    </tr>\n",
              "    <tr>\n",
              "      <th>3</th>\n",
              "      <td>1549839004836794368</td>\n",
              "      <td>Wed Jul 20 19:29:48 +0000 2022</td>\n",
              "      <td>Dovehousecars</td>\n",
              "      <td>new in coupe manual in midnight blue with metr...</td>\n",
              "    </tr>\n",
              "    <tr>\n",
              "      <th>4</th>\n",
              "      <td>1549838995965845504</td>\n",
              "      <td>Wed Jul 20 19:29:45 +0000 2022</td>\n",
              "      <td>JohnLeviBaker</td>\n",
              "      <td>_sell bazooka gold parallel rookie pop only hi...</td>\n",
              "    </tr>\n",
              "    <tr>\n",
              "      <th>5</th>\n",
              "      <td>1549838992597729280</td>\n",
              "      <td>Wed Jul 20 19:29:45 +0000 2022</td>\n",
              "      <td>Sorelle_Arduino</td>\n",
              "      <td>so you think a male bodied person should be in...</td>\n",
              "    </tr>\n",
              "    <tr>\n",
              "      <th>6</th>\n",
              "      <td>1549838986285236224</td>\n",
              "      <td>Wed Jul 20 19:29:43 +0000 2022</td>\n",
              "      <td>Kumarreddy222</td>\n",
              "      <td>_ranjitbajaj first this guy does not know abou...</td>\n",
              "    </tr>\n",
              "    <tr>\n",
              "      <th>7</th>\n",
              "      <td>1549838985324859392</td>\n",
              "      <td>Wed Jul 20 19:29:43 +0000 2022</td>\n",
              "      <td>xProudPapax</td>\n",
              "      <td>_misfit i am trying to follow as much sports i...</td>\n",
              "    </tr>\n",
              "    <tr>\n",
              "      <th>8</th>\n",
              "      <td>1549838983097552896</td>\n",
              "      <td>Wed Jul 20 19:29:42 +0000 2022</td>\n",
              "      <td>ltimmerman25</td>\n",
              "      <td>how many do the current roster of the call hom...</td>\n",
              "    </tr>\n",
              "    <tr>\n",
              "      <th>9</th>\n",
              "      <td>1549838976160112640</td>\n",
              "      <td>Wed Jul 20 19:29:41 +0000 2022</td>\n",
              "      <td>Conferenceof12</td>\n",
              "      <td>_sports it s a sign language y as well as the ...</td>\n",
              "    </tr>\n",
              "  </tbody>\n",
              "</table>\n",
              "</div>\n",
              "      <button class=\"colab-df-convert\" onclick=\"convertToInteractive('df-906f33ed-3771-4e01-b95b-cd7b7df1199e')\"\n",
              "              title=\"Convert this dataframe to an interactive table.\"\n",
              "              style=\"display:none;\">\n",
              "        \n",
              "  <svg xmlns=\"http://www.w3.org/2000/svg\" height=\"24px\"viewBox=\"0 0 24 24\"\n",
              "       width=\"24px\">\n",
              "    <path d=\"M0 0h24v24H0V0z\" fill=\"none\"/>\n",
              "    <path d=\"M18.56 5.44l.94 2.06.94-2.06 2.06-.94-2.06-.94-.94-2.06-.94 2.06-2.06.94zm-11 1L8.5 8.5l.94-2.06 2.06-.94-2.06-.94L8.5 2.5l-.94 2.06-2.06.94zm10 10l.94 2.06.94-2.06 2.06-.94-2.06-.94-.94-2.06-.94 2.06-2.06.94z\"/><path d=\"M17.41 7.96l-1.37-1.37c-.4-.4-.92-.59-1.43-.59-.52 0-1.04.2-1.43.59L10.3 9.45l-7.72 7.72c-.78.78-.78 2.05 0 2.83L4 21.41c.39.39.9.59 1.41.59.51 0 1.02-.2 1.41-.59l7.78-7.78 2.81-2.81c.8-.78.8-2.07 0-2.86zM5.41 20L4 18.59l7.72-7.72 1.47 1.35L5.41 20z\"/>\n",
              "  </svg>\n",
              "      </button>\n",
              "      \n",
              "  <style>\n",
              "    .colab-df-container {\n",
              "      display:flex;\n",
              "      flex-wrap:wrap;\n",
              "      gap: 12px;\n",
              "    }\n",
              "\n",
              "    .colab-df-convert {\n",
              "      background-color: #E8F0FE;\n",
              "      border: none;\n",
              "      border-radius: 50%;\n",
              "      cursor: pointer;\n",
              "      display: none;\n",
              "      fill: #1967D2;\n",
              "      height: 32px;\n",
              "      padding: 0 0 0 0;\n",
              "      width: 32px;\n",
              "    }\n",
              "\n",
              "    .colab-df-convert:hover {\n",
              "      background-color: #E2EBFA;\n",
              "      box-shadow: 0px 1px 2px rgba(60, 64, 67, 0.3), 0px 1px 3px 1px rgba(60, 64, 67, 0.15);\n",
              "      fill: #174EA6;\n",
              "    }\n",
              "\n",
              "    [theme=dark] .colab-df-convert {\n",
              "      background-color: #3B4455;\n",
              "      fill: #D2E3FC;\n",
              "    }\n",
              "\n",
              "    [theme=dark] .colab-df-convert:hover {\n",
              "      background-color: #434B5C;\n",
              "      box-shadow: 0px 1px 3px 1px rgba(0, 0, 0, 0.15);\n",
              "      filter: drop-shadow(0px 1px 2px rgba(0, 0, 0, 0.3));\n",
              "      fill: #FFFFFF;\n",
              "    }\n",
              "  </style>\n",
              "\n",
              "      <script>\n",
              "        const buttonEl =\n",
              "          document.querySelector('#df-906f33ed-3771-4e01-b95b-cd7b7df1199e button.colab-df-convert');\n",
              "        buttonEl.style.display =\n",
              "          google.colab.kernel.accessAllowed ? 'block' : 'none';\n",
              "\n",
              "        async function convertToInteractive(key) {\n",
              "          const element = document.querySelector('#df-906f33ed-3771-4e01-b95b-cd7b7df1199e');\n",
              "          const dataTable =\n",
              "            await google.colab.kernel.invokeFunction('convertToInteractive',\n",
              "                                                     [key], {});\n",
              "          if (!dataTable) return;\n",
              "\n",
              "          const docLinkHtml = 'Like what you see? Visit the ' +\n",
              "            '<a target=\"_blank\" href=https://colab.research.google.com/notebooks/data_table.ipynb>data table notebook</a>'\n",
              "            + ' to learn more about interactive tables.';\n",
              "          element.innerHTML = '';\n",
              "          dataTable['output_type'] = 'display_data';\n",
              "          await google.colab.output.renderOutput(dataTable, element);\n",
              "          const docLink = document.createElement('div');\n",
              "          docLink.innerHTML = docLinkHtml;\n",
              "          element.appendChild(docLink);\n",
              "        }\n",
              "      </script>\n",
              "    </div>\n",
              "  </div>\n",
              "  "
            ]
          },
          "metadata": {},
          "execution_count": 100
        }
      ],
      "source": [
        "dataframe = pd.DataFrame(cleaned_tweets, columns=columns, index=None)\n",
        "dataframe.head(10)"
      ]
    },
    {
      "cell_type": "markdown",
      "metadata": {
        "id": "jpG2u_uQ0vKv"
      },
      "source": [
        "### Saving our data \n",
        "\n",
        "We are going to save our cleaned data in a `csv` file with the name `<topic>.csv` we are fong to use the pandas method on the dataframe called `to_csv` as follows:"
      ]
    },
    {
      "cell_type": "code",
      "execution_count": 114,
      "metadata": {
        "id": "0u46901V0vKv",
        "colab": {
          "base_uri": "https://localhost:8080/"
        },
        "outputId": "b9fb1137-0e50-4e06-e3b1-54b2ccdb3ed8"
      },
      "outputs": [
        {
          "output_type": "stream",
          "name": "stdout",
          "text": [
            "Done\n"
          ]
        }
      ],
      "source": [
        "save_path = os.path.join(base_dir, f'datasets/{topic}/{topic}.csv')\n",
        "\n",
        "if os.path.exists(save_path.replace(os.path.basename(save_path), \"\")) == False:\n",
        "  print(\"Creating path: \", save_path.replace(os.path.basename(save_path), \"\"))\n",
        "  os.mkdir(save_path.replace(os.path.basename(save_path), \"\"))\n",
        "\n",
        "dataframe.to_csv(save_path)\n",
        "\n",
        "print(\"Done\")"
      ]
    },
    {
      "cell_type": "markdown",
      "metadata": {
        "id": "8EaC_yIgyDKD"
      },
      "source": [
        "### Downloading the Saved File\n",
        "\n",
        "In the following code cell we are going to download the saved file to our local computer."
      ]
    },
    {
      "cell_type": "code",
      "execution_count": 115,
      "metadata": {
        "id": "W0o5NaFVyZWb",
        "colab": {
          "base_uri": "https://localhost:8080/",
          "height": 34
        },
        "outputId": "5339a99a-f6bf-41ee-bfbb-3c774458e50f"
      },
      "outputs": [
        {
          "output_type": "display_data",
          "data": {
            "text/plain": [
              "<IPython.core.display.Javascript object>"
            ],
            "application/javascript": [
              "\n",
              "    async function download(id, filename, size) {\n",
              "      if (!google.colab.kernel.accessAllowed) {\n",
              "        return;\n",
              "      }\n",
              "      const div = document.createElement('div');\n",
              "      const label = document.createElement('label');\n",
              "      label.textContent = `Downloading \"${filename}\": `;\n",
              "      div.appendChild(label);\n",
              "      const progress = document.createElement('progress');\n",
              "      progress.max = size;\n",
              "      div.appendChild(progress);\n",
              "      document.body.appendChild(div);\n",
              "\n",
              "      const buffers = [];\n",
              "      let downloaded = 0;\n",
              "\n",
              "      const channel = await google.colab.kernel.comms.open(id);\n",
              "      // Send a message to notify the kernel that we're ready.\n",
              "      channel.send({})\n",
              "\n",
              "      for await (const message of channel.messages) {\n",
              "        // Send a message to notify the kernel that we're ready.\n",
              "        channel.send({})\n",
              "        if (message.buffers) {\n",
              "          for (const buffer of message.buffers) {\n",
              "            buffers.push(buffer);\n",
              "            downloaded += buffer.byteLength;\n",
              "            progress.value = downloaded;\n",
              "          }\n",
              "        }\n",
              "      }\n",
              "      const blob = new Blob(buffers, {type: 'application/binary'});\n",
              "      const a = document.createElement('a');\n",
              "      a.href = window.URL.createObjectURL(blob);\n",
              "      a.download = filename;\n",
              "      div.appendChild(a);\n",
              "      a.click();\n",
              "      div.remove();\n",
              "    }\n",
              "  "
            ]
          },
          "metadata": {}
        },
        {
          "output_type": "display_data",
          "data": {
            "text/plain": [
              "<IPython.core.display.Javascript object>"
            ],
            "application/javascript": [
              "download(\"download_dc4580a5-b6a0-4bfd-8d4f-acb13d67ac91\", \"art.csv\", 1357798)"
            ]
          },
          "metadata": {}
        },
        {
          "output_type": "stream",
          "name": "stdout",
          "text": [
            "Done\n"
          ]
        }
      ],
      "source": [
        "from google.colab import files\n",
        "\n",
        "files.download(save_path)\n",
        "\n",
        "print(\"Done\")"
      ]
    }
  ],
  "metadata": {
    "accelerator": "GPU",
    "colab": {
      "collapsed_sections": [],
      "name": "00_NMT_Data_Gathering.ipynb",
      "provenance": []
    },
    "gpuClass": "standard",
    "kernelspec": {
      "display_name": "Python 3",
      "language": "python",
      "name": "python3"
    },
    "language_info": {
      "codemirror_mode": {
        "name": "ipython",
        "version": 3
      },
      "file_extension": ".py",
      "mimetype": "text/x-python",
      "name": "python",
      "nbconvert_exporter": "python",
      "pygments_lexer": "ipython3",
      "version": "3.8.5"
    }
  },
  "nbformat": 4,
  "nbformat_minor": 0
}